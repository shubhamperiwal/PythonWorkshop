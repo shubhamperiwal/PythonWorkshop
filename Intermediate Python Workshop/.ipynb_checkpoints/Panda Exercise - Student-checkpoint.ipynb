{
 "cells": [
  {
   "cell_type": "markdown",
   "metadata": {},
   "source": [
    "# SF Salaries Exercise \n",
    "\n",
    "Welcome to a quick exercise for you to practice your pandas skills! We will be using the [SF Salaries Dataset](https://www.kaggle.com/kaggle/sf-salaries) from Kaggle! Just follow along and complete the tasks outlined in bold below. The tasks will get harder and harder as you go along."
   ]
  },
  {
   "cell_type": "markdown",
   "metadata": {},
   "source": [
    "** Import pandas as pd.**"
   ]
  },
  {
   "cell_type": "code",
   "execution_count": 2,
   "metadata": {},
   "outputs": [],
   "source": [
    "import pandas as pd"
   ]
  },
  {
   "cell_type": "markdown",
   "metadata": {},
   "source": [
    "** Read Salaries.csv as a dataframe called sal.**"
   ]
  },
  {
   "cell_type": "code",
   "execution_count": 3,
   "metadata": {},
   "outputs": [
    {
     "name": "stdout",
     "output_type": "stream",
     "text": [
      "            Id            EmployeeName  \\\n",
      "0            1          NATHANIEL FORD   \n",
      "1            2            GARY JIMENEZ   \n",
      "2            3          ALBERT PARDINI   \n",
      "3            4       CHRISTOPHER CHONG   \n",
      "4            5         PATRICK GARDNER   \n",
      "5            6          DAVID SULLIVAN   \n",
      "6            7               ALSON LEE   \n",
      "7            8           DAVID KUSHNER   \n",
      "8            9          MICHAEL MORRIS   \n",
      "9           10      JOANNE HAYES-WHITE   \n",
      "10          11           ARTHUR KENNEY   \n",
      "11          12        PATRICIA JACKSON   \n",
      "12          13       EDWARD HARRINGTON   \n",
      "13          14             JOHN MARTIN   \n",
      "14          15          DAVID FRANKLIN   \n",
      "15          16         RICHARD CORRIEA   \n",
      "16          17                AMY HART   \n",
      "17          18          SEBASTIAN WONG   \n",
      "18          19              MARTY ROSS   \n",
      "19          20           ELLEN MOFFATT   \n",
      "20          21              VENUS AZAR   \n",
      "21          22            JUDY MELINEK   \n",
      "22          23           GEORGE GARCIA   \n",
      "23          24           VICTOR WYRSCH   \n",
      "24          25         JOSEPH DRISCOLL   \n",
      "25          26            GREGORY SUHR   \n",
      "26          27             JOHN HANLEY   \n",
      "27          28          RAYMOND GUZMAN   \n",
      "28          29          DENISE SCHMITT   \n",
      "29          30           MONICA FIELDS   \n",
      "...        ...                     ...   \n",
      "148624  148625      Lorraine Rosenthal   \n",
      "148625  148626         Renato C Gurion   \n",
      "148626  148627           Paulet Gaines   \n",
      "148627  148628        Brett A Lundberg   \n",
      "148628  148629          Mark W Mcclure   \n",
      "148629  148630       Elizabeth Iniguez   \n",
      "148630  148631            Randy J Keys   \n",
      "148631  148632         Andre M Johnson   \n",
      "148632  148633  Sharon D Owens-Webster   \n",
      "148633  148634        Edward Ferdinand   \n",
      "148634  148635          David M Turner   \n",
      "148635  148636     James S Kibblewhite   \n",
      "148636  148637           Andrew J Enzi   \n",
      "148637  148638        Kadeshra D Green   \n",
      "148638  148639    Lennard B Hutchinson   \n",
      "148639  148640       Richard A Talbert   \n",
      "148640  148641      Charlene D Mccully   \n",
      "148641  148642   Raphael Marquis Goins   \n",
      "148642  148643       Dominic C Marquez   \n",
      "148643  148644              Kim Brewer   \n",
      "148644  148645            Randy D Winn   \n",
      "148645  148646        Carolyn A Wilson   \n",
      "148646  148647            Not provided   \n",
      "148647  148648          Joann Anderson   \n",
      "148648  148649             Leon Walker   \n",
      "148649  148650           Roy I Tillery   \n",
      "148650  148651            Not provided   \n",
      "148651  148652            Not provided   \n",
      "148652  148653            Not provided   \n",
      "148653  148654               Joe Lopez   \n",
      "\n",
      "                                                JobTitle    BasePay  \\\n",
      "0         GENERAL MANAGER-METROPOLITAN TRANSIT AUTHORITY  167411.18   \n",
      "1                        CAPTAIN III (POLICE DEPARTMENT)  155966.02   \n",
      "2                        CAPTAIN III (POLICE DEPARTMENT)  212739.13   \n",
      "3                   WIRE ROPE CABLE MAINTENANCE MECHANIC   77916.00   \n",
      "4           DEPUTY CHIEF OF DEPARTMENT,(FIRE DEPARTMENT)  134401.60   \n",
      "5                              ASSISTANT DEPUTY CHIEF II  118602.00   \n",
      "6                     BATTALION CHIEF, (FIRE DEPARTMENT)   92492.01   \n",
      "7                         DEPUTY DIRECTOR OF INVESTMENTS  256576.96   \n",
      "8                     BATTALION CHIEF, (FIRE DEPARTMENT)  176932.64   \n",
      "9                 CHIEF OF DEPARTMENT, (FIRE DEPARTMENT)  285262.00   \n",
      "10      ASSISTANT CHIEF OF DEPARTMENT, (FIRE DEPARTMENT)  194999.39   \n",
      "11                       CAPTAIN III (POLICE DEPARTMENT)   99722.00   \n",
      "12                           EXECUTIVE CONTRACT EMPLOYEE  294580.02   \n",
      "13                                     DEPARTMENT HEAD V  271329.03   \n",
      "14                    BATTALION CHIEF, (FIRE DEPARTMENT)  174872.64   \n",
      "15                    COMMANDER III, (POLICE DEPARTMENT)  198778.01   \n",
      "16                                     DEPARTMENT HEAD V  268604.57   \n",
      "17                 CAPTAIN, EMERGENCYCY MEDICAL SERVICES  140546.87   \n",
      "18                    BATTALION CHIEF, (FIRE DEPARTMENT)  168692.63   \n",
      "19                            ASSISTANT MEDICAL EXAMINER  257510.59   \n",
      "20                            ASSISTANT MEDICAL EXAMINER  257510.48   \n",
      "21                            ASSISTANT MEDICAL EXAMINER  257510.44   \n",
      "22                             CAPTAIN, FIRE SUPPRESSION  140546.88   \n",
      "23                    BATTALION CHIEF, (FIRE DEPARTMENT)  168692.63   \n",
      "24                             CAPTAIN, FIRE SUPPRESSION  140546.86   \n",
      "25                                       CHIEF OF POLICE  256470.41   \n",
      "26                             CAPTAIN, FIRE SUPPRESSION   92080.80   \n",
      "27                    BATTALION CHIEF, (FIRE DEPARTMENT)  168692.59   \n",
      "28                  DEPUTY CHIEF III (POLICE DEPARTMENT)  261717.60   \n",
      "29          DEPUTY CHIEF OF DEPARTMENT,(FIRE DEPARTMENT)  246225.60   \n",
      "...                                                  ...        ...   \n",
      "148624                                      Senior Clerk       0.00   \n",
      "148625                                  Registered Nurse       0.00   \n",
      "148626                                     Account Clerk       0.00   \n",
      "148627                                   General Laborer       0.00   \n",
      "148628                                   General Laborer       0.00   \n",
      "148629                                Transcriber Typist       0.00   \n",
      "148630                                         Carpenter       0.00   \n",
      "148631                       Communications Dispatcher 1       0.00   \n",
      "148632                        Protective Services Worker       0.00   \n",
      "148633                                   General Laborer       0.00   \n",
      "148634                               Transit Car Cleaner       0.00   \n",
      "148635                                   General Laborer       0.00   \n",
      "148636                               Arborist Technician       0.00   \n",
      "148637                            Transit Fare Inspector       0.00   \n",
      "148638                                       Electrician       0.00   \n",
      "148639                                         Custodian       0.00   \n",
      "148640                           Parking Control Officer       0.00   \n",
      "148641                                      Museum Guard       0.00   \n",
      "148642                                       Sign Worker       0.00   \n",
      "148643                           Parking Control Officer       0.00   \n",
      "148644                      Stationary Eng, Sewage Plant       0.00   \n",
      "148645                         Human Services Technician       0.00   \n",
      "148646                                      Not provided        NaN   \n",
      "148647                       Communications Dispatcher 2       0.00   \n",
      "148648                                         Custodian       0.00   \n",
      "148649                                         Custodian       0.00   \n",
      "148650                                      Not provided        NaN   \n",
      "148651                                      Not provided        NaN   \n",
      "148652                                      Not provided        NaN   \n",
      "148653                        Counselor, Log Cabin Ranch       0.00   \n",
      "\n",
      "        OvertimePay   OtherPay  Benefits   TotalPay  TotalPayBenefits  Year  \\\n",
      "0              0.00  400184.25       NaN  567595.43         567595.43  2011   \n",
      "1         245131.88  137811.38       NaN  538909.28         538909.28  2011   \n",
      "2         106088.18   16452.60       NaN  335279.91         335279.91  2011   \n",
      "3          56120.71  198306.90       NaN  332343.61         332343.61  2011   \n",
      "4           9737.00  182234.59       NaN  326373.19         326373.19  2011   \n",
      "5           8601.00  189082.74       NaN  316285.74         316285.74  2011   \n",
      "6          89062.90  134426.14       NaN  315981.05         315981.05  2011   \n",
      "7              0.00   51322.50       NaN  307899.46         307899.46  2011   \n",
      "8          86362.68   40132.23       NaN  303427.55         303427.55  2011   \n",
      "9              0.00   17115.73       NaN  302377.73         302377.73  2011   \n",
      "10         71344.88   33149.90       NaN  299494.17         299494.17  2011   \n",
      "11         87082.62  110804.30       NaN  297608.92         297608.92  2011   \n",
      "12             0.00       0.00       NaN  294580.02         294580.02  2011   \n",
      "13             0.00   21342.59       NaN  292671.62         292671.62  2011   \n",
      "14         74050.30   37424.11       NaN  286347.05         286347.05  2011   \n",
      "15         73478.20   13957.65       NaN  286213.86         286213.86  2011   \n",
      "16             0.00   16115.86       NaN  284720.43         284720.43  2011   \n",
      "17        119397.26   18625.08       NaN  278569.21         278569.21  2011   \n",
      "18         69626.12   38115.47       NaN  276434.22         276434.22  2011   \n",
      "19           880.16   16159.50       NaN  274550.25         274550.25  2011   \n",
      "20             0.00   16679.79       NaN  274190.27         274190.27  2011   \n",
      "21           377.21   15883.56       NaN  273771.21         273771.21  2011   \n",
      "22         93200.58   39955.25       NaN  273702.71         273702.71  2011   \n",
      "23         77896.14   24083.86       NaN  270672.63         270672.63  2011   \n",
      "24         97868.77   31909.28       NaN  270324.91         270324.91  2011   \n",
      "25             0.00   11522.18       NaN  267992.59         267992.59  2011   \n",
      "26         40008.00  133695.76       NaN  265784.56         265784.56  2011   \n",
      "27         80706.88   16063.99       NaN  265463.46         265463.46  2011   \n",
      "28             0.00    2357.00       NaN  264074.60         264074.60  2011   \n",
      "29             0.00   15140.54       NaN  261366.14         261366.14  2011   \n",
      "...             ...        ...       ...        ...               ...   ...   \n",
      "148624         0.00      12.89      0.00      12.89             12.89  2014   \n",
      "148625         0.00       6.00      1.24       6.00              7.24  2014   \n",
      "148626         0.00       0.00      0.00       0.00              0.00  2014   \n",
      "148627         0.00       0.00      0.00       0.00              0.00  2014   \n",
      "148628         0.00       0.00      0.00       0.00              0.00  2014   \n",
      "148629         0.00       0.00      0.00       0.00              0.00  2014   \n",
      "148630         0.00       0.00      0.00       0.00              0.00  2014   \n",
      "148631         0.00       0.00      0.00       0.00              0.00  2014   \n",
      "148632         0.00       0.00      0.00       0.00              0.00  2014   \n",
      "148633         0.00       0.00      0.00       0.00              0.00  2014   \n",
      "148634         0.00       0.00      0.00       0.00              0.00  2014   \n",
      "148635         0.00       0.00      0.00       0.00              0.00  2014   \n",
      "148636         0.00       0.00      0.00       0.00              0.00  2014   \n",
      "148637         0.00       0.00      0.00       0.00              0.00  2014   \n",
      "148638         0.00       0.00      0.00       0.00              0.00  2014   \n",
      "148639         0.00       0.00      0.00       0.00              0.00  2014   \n",
      "148640         0.00       0.00      0.00       0.00              0.00  2014   \n",
      "148641         0.00       0.00      0.00       0.00              0.00  2014   \n",
      "148642         0.00       0.00      0.00       0.00              0.00  2014   \n",
      "148643         0.00       0.00      0.00       0.00              0.00  2014   \n",
      "148644         0.00       0.00      0.00       0.00              0.00  2014   \n",
      "148645         0.00       0.00      0.00       0.00              0.00  2014   \n",
      "148646          NaN        NaN       NaN       0.00              0.00  2014   \n",
      "148647         0.00       0.00      0.00       0.00              0.00  2014   \n",
      "148648         0.00       0.00      0.00       0.00              0.00  2014   \n",
      "148649         0.00       0.00      0.00       0.00              0.00  2014   \n",
      "148650          NaN        NaN       NaN       0.00              0.00  2014   \n",
      "148651          NaN        NaN       NaN       0.00              0.00  2014   \n",
      "148652          NaN        NaN       NaN       0.00              0.00  2014   \n",
      "148653         0.00    -618.13      0.00    -618.13           -618.13  2014   \n",
      "\n",
      "        Notes         Agency  Status  \n",
      "0         NaN  San Francisco     NaN  \n",
      "1         NaN  San Francisco     NaN  \n",
      "2         NaN  San Francisco     NaN  \n",
      "3         NaN  San Francisco     NaN  \n",
      "4         NaN  San Francisco     NaN  \n",
      "5         NaN  San Francisco     NaN  \n",
      "6         NaN  San Francisco     NaN  \n",
      "7         NaN  San Francisco     NaN  \n",
      "8         NaN  San Francisco     NaN  \n",
      "9         NaN  San Francisco     NaN  \n",
      "10        NaN  San Francisco     NaN  \n",
      "11        NaN  San Francisco     NaN  \n",
      "12        NaN  San Francisco     NaN  \n",
      "13        NaN  San Francisco     NaN  \n",
      "14        NaN  San Francisco     NaN  \n",
      "15        NaN  San Francisco     NaN  \n",
      "16        NaN  San Francisco     NaN  \n",
      "17        NaN  San Francisco     NaN  \n",
      "18        NaN  San Francisco     NaN  \n",
      "19        NaN  San Francisco     NaN  \n",
      "20        NaN  San Francisco     NaN  \n",
      "21        NaN  San Francisco     NaN  \n",
      "22        NaN  San Francisco     NaN  \n",
      "23        NaN  San Francisco     NaN  \n",
      "24        NaN  San Francisco     NaN  \n",
      "25        NaN  San Francisco     NaN  \n",
      "26        NaN  San Francisco     NaN  \n",
      "27        NaN  San Francisco     NaN  \n",
      "28        NaN  San Francisco     NaN  \n",
      "29        NaN  San Francisco     NaN  \n",
      "...       ...            ...     ...  \n",
      "148624    NaN  San Francisco     NaN  \n",
      "148625    NaN  San Francisco     NaN  \n",
      "148626    NaN  San Francisco     NaN  \n",
      "148627    NaN  San Francisco     NaN  \n",
      "148628    NaN  San Francisco     NaN  \n",
      "148629    NaN  San Francisco     NaN  \n",
      "148630    NaN  San Francisco     NaN  \n",
      "148631    NaN  San Francisco     NaN  \n",
      "148632    NaN  San Francisco     NaN  \n",
      "148633    NaN  San Francisco     NaN  \n",
      "148634    NaN  San Francisco     NaN  \n",
      "148635    NaN  San Francisco     NaN  \n",
      "148636    NaN  San Francisco     NaN  \n",
      "148637    NaN  San Francisco     NaN  \n",
      "148638    NaN  San Francisco     NaN  \n",
      "148639    NaN  San Francisco     NaN  \n",
      "148640    NaN  San Francisco     NaN  \n",
      "148641    NaN  San Francisco     NaN  \n",
      "148642    NaN  San Francisco     NaN  \n",
      "148643    NaN  San Francisco     NaN  \n",
      "148644    NaN  San Francisco     NaN  \n",
      "148645    NaN  San Francisco     NaN  \n",
      "148646    NaN  San Francisco     NaN  \n",
      "148647    NaN  San Francisco     NaN  \n",
      "148648    NaN  San Francisco     NaN  \n",
      "148649    NaN  San Francisco     NaN  \n",
      "148650    NaN  San Francisco     NaN  \n",
      "148651    NaN  San Francisco     NaN  \n",
      "148652    NaN  San Francisco     NaN  \n",
      "148653    NaN  San Francisco     NaN  \n",
      "\n",
      "[148654 rows x 13 columns]\n"
     ]
    }
   ],
   "source": [
    "sal = pd.read_csv(\"data/Salaries.csv\")\n",
    "print(sal)"
   ]
  },
  {
   "cell_type": "markdown",
   "metadata": {},
   "source": [
    "** Check the head of the DataFrame. **"
   ]
  },
  {
   "cell_type": "code",
   "execution_count": 4,
   "metadata": {},
   "outputs": [
    {
     "data": {
      "text/html": [
       "<div>\n",
       "<style scoped>\n",
       "    .dataframe tbody tr th:only-of-type {\n",
       "        vertical-align: middle;\n",
       "    }\n",
       "\n",
       "    .dataframe tbody tr th {\n",
       "        vertical-align: top;\n",
       "    }\n",
       "\n",
       "    .dataframe thead th {\n",
       "        text-align: right;\n",
       "    }\n",
       "</style>\n",
       "<table border=\"1\" class=\"dataframe\">\n",
       "  <thead>\n",
       "    <tr style=\"text-align: right;\">\n",
       "      <th></th>\n",
       "      <th>Id</th>\n",
       "      <th>EmployeeName</th>\n",
       "      <th>JobTitle</th>\n",
       "      <th>BasePay</th>\n",
       "      <th>OvertimePay</th>\n",
       "      <th>OtherPay</th>\n",
       "      <th>Benefits</th>\n",
       "      <th>TotalPay</th>\n",
       "      <th>TotalPayBenefits</th>\n",
       "      <th>Year</th>\n",
       "      <th>Notes</th>\n",
       "      <th>Agency</th>\n",
       "      <th>Status</th>\n",
       "    </tr>\n",
       "  </thead>\n",
       "  <tbody>\n",
       "    <tr>\n",
       "      <th>0</th>\n",
       "      <td>1</td>\n",
       "      <td>NATHANIEL FORD</td>\n",
       "      <td>GENERAL MANAGER-METROPOLITAN TRANSIT AUTHORITY</td>\n",
       "      <td>167411.18</td>\n",
       "      <td>0.00</td>\n",
       "      <td>400184.25</td>\n",
       "      <td>NaN</td>\n",
       "      <td>567595.43</td>\n",
       "      <td>567595.43</td>\n",
       "      <td>2011</td>\n",
       "      <td>NaN</td>\n",
       "      <td>San Francisco</td>\n",
       "      <td>NaN</td>\n",
       "    </tr>\n",
       "    <tr>\n",
       "      <th>1</th>\n",
       "      <td>2</td>\n",
       "      <td>GARY JIMENEZ</td>\n",
       "      <td>CAPTAIN III (POLICE DEPARTMENT)</td>\n",
       "      <td>155966.02</td>\n",
       "      <td>245131.88</td>\n",
       "      <td>137811.38</td>\n",
       "      <td>NaN</td>\n",
       "      <td>538909.28</td>\n",
       "      <td>538909.28</td>\n",
       "      <td>2011</td>\n",
       "      <td>NaN</td>\n",
       "      <td>San Francisco</td>\n",
       "      <td>NaN</td>\n",
       "    </tr>\n",
       "    <tr>\n",
       "      <th>2</th>\n",
       "      <td>3</td>\n",
       "      <td>ALBERT PARDINI</td>\n",
       "      <td>CAPTAIN III (POLICE DEPARTMENT)</td>\n",
       "      <td>212739.13</td>\n",
       "      <td>106088.18</td>\n",
       "      <td>16452.60</td>\n",
       "      <td>NaN</td>\n",
       "      <td>335279.91</td>\n",
       "      <td>335279.91</td>\n",
       "      <td>2011</td>\n",
       "      <td>NaN</td>\n",
       "      <td>San Francisco</td>\n",
       "      <td>NaN</td>\n",
       "    </tr>\n",
       "    <tr>\n",
       "      <th>3</th>\n",
       "      <td>4</td>\n",
       "      <td>CHRISTOPHER CHONG</td>\n",
       "      <td>WIRE ROPE CABLE MAINTENANCE MECHANIC</td>\n",
       "      <td>77916.00</td>\n",
       "      <td>56120.71</td>\n",
       "      <td>198306.90</td>\n",
       "      <td>NaN</td>\n",
       "      <td>332343.61</td>\n",
       "      <td>332343.61</td>\n",
       "      <td>2011</td>\n",
       "      <td>NaN</td>\n",
       "      <td>San Francisco</td>\n",
       "      <td>NaN</td>\n",
       "    </tr>\n",
       "    <tr>\n",
       "      <th>4</th>\n",
       "      <td>5</td>\n",
       "      <td>PATRICK GARDNER</td>\n",
       "      <td>DEPUTY CHIEF OF DEPARTMENT,(FIRE DEPARTMENT)</td>\n",
       "      <td>134401.60</td>\n",
       "      <td>9737.00</td>\n",
       "      <td>182234.59</td>\n",
       "      <td>NaN</td>\n",
       "      <td>326373.19</td>\n",
       "      <td>326373.19</td>\n",
       "      <td>2011</td>\n",
       "      <td>NaN</td>\n",
       "      <td>San Francisco</td>\n",
       "      <td>NaN</td>\n",
       "    </tr>\n",
       "  </tbody>\n",
       "</table>\n",
       "</div>"
      ],
      "text/plain": [
       "   Id       EmployeeName                                        JobTitle  \\\n",
       "0   1     NATHANIEL FORD  GENERAL MANAGER-METROPOLITAN TRANSIT AUTHORITY   \n",
       "1   2       GARY JIMENEZ                 CAPTAIN III (POLICE DEPARTMENT)   \n",
       "2   3     ALBERT PARDINI                 CAPTAIN III (POLICE DEPARTMENT)   \n",
       "3   4  CHRISTOPHER CHONG            WIRE ROPE CABLE MAINTENANCE MECHANIC   \n",
       "4   5    PATRICK GARDNER    DEPUTY CHIEF OF DEPARTMENT,(FIRE DEPARTMENT)   \n",
       "\n",
       "     BasePay  OvertimePay   OtherPay  Benefits   TotalPay  TotalPayBenefits  \\\n",
       "0  167411.18         0.00  400184.25       NaN  567595.43         567595.43   \n",
       "1  155966.02    245131.88  137811.38       NaN  538909.28         538909.28   \n",
       "2  212739.13    106088.18   16452.60       NaN  335279.91         335279.91   \n",
       "3   77916.00     56120.71  198306.90       NaN  332343.61         332343.61   \n",
       "4  134401.60      9737.00  182234.59       NaN  326373.19         326373.19   \n",
       "\n",
       "   Year  Notes         Agency  Status  \n",
       "0  2011    NaN  San Francisco     NaN  \n",
       "1  2011    NaN  San Francisco     NaN  \n",
       "2  2011    NaN  San Francisco     NaN  \n",
       "3  2011    NaN  San Francisco     NaN  \n",
       "4  2011    NaN  San Francisco     NaN  "
      ]
     },
     "execution_count": 4,
     "metadata": {},
     "output_type": "execute_result"
    }
   ],
   "source": [
    "sal.head()"
   ]
  },
  {
   "cell_type": "markdown",
   "metadata": {},
   "source": [
    "** Use the .info() method to find out how many entries there are.**"
   ]
  },
  {
   "cell_type": "code",
   "execution_count": 5,
   "metadata": {},
   "outputs": [
    {
     "name": "stdout",
     "output_type": "stream",
     "text": [
      "<class 'pandas.core.frame.DataFrame'>\n",
      "RangeIndex: 148654 entries, 0 to 148653\n",
      "Data columns (total 13 columns):\n",
      "Id                  148654 non-null int64\n",
      "EmployeeName        148654 non-null object\n",
      "JobTitle            148654 non-null object\n",
      "BasePay             148045 non-null float64\n",
      "OvertimePay         148650 non-null float64\n",
      "OtherPay            148650 non-null float64\n",
      "Benefits            112491 non-null float64\n",
      "TotalPay            148654 non-null float64\n",
      "TotalPayBenefits    148654 non-null float64\n",
      "Year                148654 non-null int64\n",
      "Notes               0 non-null float64\n",
      "Agency              148654 non-null object\n",
      "Status              0 non-null float64\n",
      "dtypes: float64(8), int64(2), object(3)\n",
      "memory usage: 14.7+ MB\n"
     ]
    }
   ],
   "source": [
    "sal.info()"
   ]
  },
  {
   "cell_type": "markdown",
   "metadata": {},
   "source": [
    "** What is the highest amount of OvertimePay in the dataset ? **"
   ]
  },
  {
   "cell_type": "code",
   "execution_count": 8,
   "metadata": {},
   "outputs": [
    {
     "data": {
      "text/plain": [
       "245131.88"
      ]
     },
     "execution_count": 8,
     "metadata": {},
     "output_type": "execute_result"
    }
   ],
   "source": [
    "highest = sal['OvertimePay'].max()\n",
    "highest"
   ]
  },
  {
   "cell_type": "markdown",
   "metadata": {},
   "source": [
    "** What is the job title of  JOSEPH DRISCOLL ? Note: Use all caps, otherwise you may get an answer that doesn't match up (there is also a lowercase Joseph Driscoll). **"
   ]
  },
  {
   "cell_type": "code",
   "execution_count": 10,
   "metadata": {},
   "outputs": [
    {
     "name": "stdout",
     "output_type": "stream",
     "text": [
      "24    CAPTAIN, FIRE SUPPRESSION\n",
      "Name: JobTitle, dtype: object\n"
     ]
    }
   ],
   "source": [
    "jobtitle = sal[sal['EmployeeName']=='JOSEPH DRISCOLL']['JobTitle']\n",
    "print(jobtitle)"
   ]
  },
  {
   "cell_type": "markdown",
   "metadata": {},
   "source": [
    "** How much does JOSEPH DRISCOLL make (including benefits)? **"
   ]
  },
  {
   "cell_type": "code",
   "execution_count": 12,
   "metadata": {},
   "outputs": [
    {
     "name": "stdout",
     "output_type": "stream",
     "text": [
      "24    270324.91\n",
      "Name: TotalPayBenefits, dtype: float64\n"
     ]
    }
   ],
   "source": [
    "pay = sal[sal['EmployeeName']=='JOSEPH DRISCOLL']['TotalPayBenefits']\n",
    "print(pay)"
   ]
  },
  {
   "cell_type": "markdown",
   "metadata": {},
   "source": [
    "** What is the name of highest paid person (including benefits)?**"
   ]
  },
  {
   "cell_type": "code",
   "execution_count": 25,
   "metadata": {},
   "outputs": [],
   "source": [
    "highest = sal['TotalPayBenefits'].max()"
   ]
  },
  {
   "cell_type": "code",
   "execution_count": 24,
   "metadata": {},
   "outputs": [
    {
     "data": {
      "text/html": [
       "<div>\n",
       "<style scoped>\n",
       "    .dataframe tbody tr th:only-of-type {\n",
       "        vertical-align: middle;\n",
       "    }\n",
       "\n",
       "    .dataframe tbody tr th {\n",
       "        vertical-align: top;\n",
       "    }\n",
       "\n",
       "    .dataframe thead th {\n",
       "        text-align: right;\n",
       "    }\n",
       "</style>\n",
       "<table border=\"1\" class=\"dataframe\">\n",
       "  <thead>\n",
       "    <tr style=\"text-align: right;\">\n",
       "      <th></th>\n",
       "      <th>Id</th>\n",
       "      <th>EmployeeName</th>\n",
       "      <th>JobTitle</th>\n",
       "      <th>BasePay</th>\n",
       "      <th>OvertimePay</th>\n",
       "      <th>OtherPay</th>\n",
       "      <th>Benefits</th>\n",
       "      <th>TotalPay</th>\n",
       "      <th>TotalPayBenefits</th>\n",
       "      <th>Year</th>\n",
       "      <th>Notes</th>\n",
       "      <th>Agency</th>\n",
       "      <th>Status</th>\n",
       "    </tr>\n",
       "  </thead>\n",
       "  <tbody>\n",
       "    <tr>\n",
       "      <th>0</th>\n",
       "      <td>1</td>\n",
       "      <td>NATHANIEL FORD</td>\n",
       "      <td>GENERAL MANAGER-METROPOLITAN TRANSIT AUTHORITY</td>\n",
       "      <td>167411.18</td>\n",
       "      <td>0.0</td>\n",
       "      <td>400184.25</td>\n",
       "      <td>NaN</td>\n",
       "      <td>567595.43</td>\n",
       "      <td>567595.43</td>\n",
       "      <td>2011</td>\n",
       "      <td>NaN</td>\n",
       "      <td>San Francisco</td>\n",
       "      <td>NaN</td>\n",
       "    </tr>\n",
       "  </tbody>\n",
       "</table>\n",
       "</div>"
      ],
      "text/plain": [
       "   Id    EmployeeName                                        JobTitle  \\\n",
       "0   1  NATHANIEL FORD  GENERAL MANAGER-METROPOLITAN TRANSIT AUTHORITY   \n",
       "\n",
       "     BasePay  OvertimePay   OtherPay  Benefits   TotalPay  TotalPayBenefits  \\\n",
       "0  167411.18          0.0  400184.25       NaN  567595.43         567595.43   \n",
       "\n",
       "   Year  Notes         Agency  Status  \n",
       "0  2011    NaN  San Francisco     NaN  "
      ]
     },
     "execution_count": 24,
     "metadata": {},
     "output_type": "execute_result"
    }
   ],
   "source": [
    "sal[sal['TotalPayBenefits'] == highest]"
   ]
  },
  {
   "cell_type": "markdown",
   "metadata": {},
   "source": [
    "** What is the name of lowest paid person (including benefits)? Do you notice something strange about how much he or she is paid?**"
   ]
  },
  {
   "cell_type": "code",
   "execution_count": 22,
   "metadata": {},
   "outputs": [],
   "source": [
    "lowest = sal['TotalPayBenefits'].min()"
   ]
  },
  {
   "cell_type": "code",
   "execution_count": 21,
   "metadata": {},
   "outputs": [
    {
     "data": {
      "text/html": [
       "<div>\n",
       "<style scoped>\n",
       "    .dataframe tbody tr th:only-of-type {\n",
       "        vertical-align: middle;\n",
       "    }\n",
       "\n",
       "    .dataframe tbody tr th {\n",
       "        vertical-align: top;\n",
       "    }\n",
       "\n",
       "    .dataframe thead th {\n",
       "        text-align: right;\n",
       "    }\n",
       "</style>\n",
       "<table border=\"1\" class=\"dataframe\">\n",
       "  <thead>\n",
       "    <tr style=\"text-align: right;\">\n",
       "      <th></th>\n",
       "      <th>Id</th>\n",
       "      <th>EmployeeName</th>\n",
       "      <th>JobTitle</th>\n",
       "      <th>BasePay</th>\n",
       "      <th>OvertimePay</th>\n",
       "      <th>OtherPay</th>\n",
       "      <th>Benefits</th>\n",
       "      <th>TotalPay</th>\n",
       "      <th>TotalPayBenefits</th>\n",
       "      <th>Year</th>\n",
       "      <th>Notes</th>\n",
       "      <th>Agency</th>\n",
       "      <th>Status</th>\n",
       "    </tr>\n",
       "  </thead>\n",
       "  <tbody>\n",
       "    <tr>\n",
       "      <th>148653</th>\n",
       "      <td>148654</td>\n",
       "      <td>Joe Lopez</td>\n",
       "      <td>Counselor, Log Cabin Ranch</td>\n",
       "      <td>0.0</td>\n",
       "      <td>0.0</td>\n",
       "      <td>-618.13</td>\n",
       "      <td>0.0</td>\n",
       "      <td>-618.13</td>\n",
       "      <td>-618.13</td>\n",
       "      <td>2014</td>\n",
       "      <td>NaN</td>\n",
       "      <td>San Francisco</td>\n",
       "      <td>NaN</td>\n",
       "    </tr>\n",
       "  </tbody>\n",
       "</table>\n",
       "</div>"
      ],
      "text/plain": [
       "            Id EmployeeName                    JobTitle  BasePay  OvertimePay  \\\n",
       "148653  148654    Joe Lopez  Counselor, Log Cabin Ranch      0.0          0.0   \n",
       "\n",
       "        OtherPay  Benefits  TotalPay  TotalPayBenefits  Year  Notes  \\\n",
       "148653   -618.13       0.0   -618.13           -618.13  2014    NaN   \n",
       "\n",
       "               Agency  Status  \n",
       "148653  San Francisco     NaN  "
      ]
     },
     "execution_count": 21,
     "metadata": {},
     "output_type": "execute_result"
    }
   ],
   "source": [
    "sal[sal['TotalPayBenefits'] == lowest]"
   ]
  },
  {
   "cell_type": "code",
   "execution_count": null,
   "metadata": {},
   "outputs": [],
   "source": []
  },
  {
   "cell_type": "markdown",
   "metadata": {},
   "source": [
    "** How many unique job titles are there? **"
   ]
  },
  {
   "cell_type": "code",
   "execution_count": 27,
   "metadata": {},
   "outputs": [
    {
     "data": {
      "text/plain": [
       "2159"
      ]
     },
     "execution_count": 27,
     "metadata": {},
     "output_type": "execute_result"
    }
   ],
   "source": [
    "len(sal['JobTitle'].unique())"
   ]
  }
 ],
 "metadata": {
  "kernelspec": {
   "display_name": "Python 3",
   "language": "python",
   "name": "python3"
  },
  "language_info": {
   "codemirror_mode": {
    "name": "ipython",
    "version": 3
   },
   "file_extension": ".py",
   "mimetype": "text/x-python",
   "name": "python",
   "nbconvert_exporter": "python",
   "pygments_lexer": "ipython3",
   "version": "3.6.4"
  }
 },
 "nbformat": 4,
 "nbformat_minor": 1
}
