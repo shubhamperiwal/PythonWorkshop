{
 "cells": [
  {
   "cell_type": "markdown",
   "metadata": {},
   "source": [
    "## Revision - Python Basics\n",
    "\n",
    "We will go through the following:\n",
    "\n",
    "1. Declare and manipulate variables\n",
    "\n",
    "2. Implement control flow using `if...else` statements and conditionals\n",
    "\n",
    "3. Data Structures - List and Dictionary\n",
    "\n",
    "4. Implement looping using `for` loops\n",
    "\n",
    "5. Kahoot!"
   ]
  },
  {
   "cell_type": "markdown",
   "metadata": {
    "collapsed": true
   },
   "source": [
    "###  Variables and Data Types\n",
    "Variable is a name given by us to value!\n",
    "\n",
    "<img src=\"images/variable.jpg\">"
   ]
  },
  {
   "cell_type": "code",
   "execution_count": 1,
   "metadata": {},
   "outputs": [],
   "source": [
    "# Variables & Datatypes\n",
    "Name = 'Eminem' # str or string\n",
    "print(type(Name))\n",
    "\n",
    "Age = 45 # int or integer\n",
    "print(type(Age))\n",
    "\n",
    "Weight = 68.50 # float\n",
    "print(type(Weight))\n",
    "\n",
    "Height = 173.00\n",
    "\n",
    "Male = True # boolean\n",
    "print(type(Male))"
   ]
  },
  {
   "cell_type": "code",
   "execution_count": 2,
   "metadata": {},
   "outputs": [],
   "source": [
    "#assign your name, age, Weight, Height and Gender to new variables:\n",
    "\n",
    "\n",
    "#MyName = ...\n",
    "#MyAge = ....\n",
    "#MyHeight = ...\n"
   ]
  },
  {
   "cell_type": "markdown",
   "metadata": {},
   "source": [
    "#### Calculating Eminem's BMI:\n",
    "\n",
    "##### BMI Formula = Weight (in kgs) / (height * height) (in meters)\n"
   ]
  },
  {
   "cell_type": "code",
   "execution_count": 3,
   "metadata": {},
   "outputs": [],
   "source": [
    "#calculate Eminem's BMI\n",
    "EminemsBMI = Weight/(Height*Height)\n",
    "\n",
    "#calculate your BMI\n",
    "#yourBMI = "
   ]
  },
  {
   "cell_type": "markdown",
   "metadata": {},
   "source": [
    "###  If...else"
   ]
  },
  {
   "cell_type": "code",
   "execution_count": 4,
   "metadata": {},
   "outputs": [],
   "source": [
    "#print the name who has higher BMI\n",
    "\n",
    "# if (condition):\n",
    "    #do something if condition is met\n",
    "# else: \n",
    "    #do something if condition is not met\n",
    "    "
   ]
  },
  {
   "cell_type": "markdown",
   "metadata": {},
   "source": [
    "For loop"
   ]
  },
  {
   "cell_type": "markdown",
   "metadata": {},
   "source": [
    "### Lists\n",
    "\n",
    "A list is a data structure that can be used to hold different data types within it.\n"
   ]
  },
  {
   "cell_type": "code",
   "execution_count": 5,
   "metadata": {},
   "outputs": [],
   "source": [
    "#make a list out of below part and print it: "
   ]
  },
  {
   "cell_type": "markdown",
   "metadata": {},
   "source": [
    "<img src=\"images/list.png\">"
   ]
  },
  {
   "cell_type": "markdown",
   "metadata": {},
   "source": [
    "The table below summarises retrieval / capturing elements in a Python list by index.\n",
    "\n",
    "| Expression | Definition of Expression | Example Usage | Result\n",
    "|------|------|--|------|\n",
    "|`[4]` | Retrieve elements from position 4| `more_odd_numbers[4]` | `9`\n",
    "|`[:3]` | Retrieve elements from position 0 (defaulted) to 2 (exclusive end) | `more_odd_numbers[:3]` | `[1, 3, 5]`\n",
    "|`[3:5]` | Retrieve elements from position 3 (inclusive start) to 4 (exclusive end) | `more_odd_numbers[3:5]` | `[7, 9]`\n",
    "|`[3:]` | Retrieve element from position 3 (inclusive start) to the last element (defaulted) | `more_odd_numbers[3:]` | `[7, 9, 11, 13, 15]`"
   ]
  },
  {
   "cell_type": "code",
   "execution_count": 6,
   "metadata": {},
   "outputs": [
    {
     "name": "stdout",
     "output_type": "stream",
     "text": [
      "[1, 3, 5]\n"
     ]
    }
   ],
   "source": [
    "# List Indices\n",
    "odd_numbers = [1, 3, 5, 7, 9, 11]\n",
    "print(odd_numbers[:3])"
   ]
  },
  {
   "cell_type": "code",
   "execution_count": 5,
   "metadata": {},
   "outputs": [
    {
     "name": "stdout",
     "output_type": "stream",
     "text": [
      "[6, 8, 10]\n",
      "[8, 6, 4, 2]\n"
     ]
    }
   ],
   "source": [
    "# What is the result of the following code block?\n",
    "\n",
    "even_numbers = [2, 4, 6, 8, 10]\n",
    "print(even_numbers[2:])\n",
    "print(even_numbers[-2::-1])"
   ]
  },
  {
   "cell_type": "code",
   "execution_count": 8,
   "metadata": {},
   "outputs": [],
   "source": [
    "# Append function\n",
    "\n",
    "#odd_numbers.append(13)\n",
    "\n",
    "#Use append function to add all the even numbers till 20 in the list even_numbers:\n",
    "\n",
    "\n"
   ]
  },
  {
   "cell_type": "markdown",
   "metadata": {},
   "source": [
    "### Dictionary\n",
    "A dictionary has a set of keys and each key has a single associated value. When presented with a key, the dictionary will return the associated value."
   ]
  },
  {
   "cell_type": "code",
   "execution_count": 9,
   "metadata": {},
   "outputs": [],
   "source": [
    "BIAInstructors = {\"Vikram\": 21, \"Shubham\": 25, \"Sofia\": 13}\n",
    "\n",
    "#uncomment below lines to revise the concepts of taking an element out\n",
    "\n",
    "#print(BIAInstructors[\"Vikram\"]) #to print Vikram's age\n"
   ]
  },
  {
   "cell_type": "markdown",
   "metadata": {},
   "source": [
    "##### To Simplify you can visualize Dictionary as a bookshelf in library with numerous rows and an identification number for each row!\n",
    "\n",
    "<img src=\"images/AgesDictionary.png\">"
   ]
  },
  {
   "cell_type": "code",
   "execution_count": 10,
   "metadata": {},
   "outputs": [],
   "source": [
    "#Ages Dictionary, Convert the above to a dictionary:\n",
    "\n",
    "\n",
    "\n"
   ]
  },
  {
   "cell_type": "markdown",
   "metadata": {},
   "source": [
    "##### Now you have a dictionary of lists!\n",
    "\n",
    "<img src=\"images/SongsDictionary.png\">"
   ]
  },
  {
   "cell_type": "code",
   "execution_count": 11,
   "metadata": {},
   "outputs": [],
   "source": [
    "#Songs by Artists, Convert the above to a dictionary:\n",
    "\n",
    "\n",
    "\n",
    "\n"
   ]
  },
  {
   "cell_type": "markdown",
   "metadata": {},
   "source": [
    "##### Now you have a dictionary of lists!\n",
    "\n",
    "<img src=\"images/YearSongs.png\">"
   ]
  },
  {
   "cell_type": "code",
   "execution_count": 12,
   "metadata": {},
   "outputs": [],
   "source": [
    "#Songs by Artists and Years produced,Convert the above to a dictionary:\n",
    "\n",
    "\n",
    "\n",
    "#What are all the songs produced by Drake in year 2018?"
   ]
  },
  {
   "cell_type": "markdown",
   "metadata": {},
   "source": [
    "### For Loop \n",
    "\n",
    "To do a single activity, numerous times we use For Loop! this makes our lives easier!\n",
    "\n",
    "Recall even_numbers? Adding the even numbers to loop till 20, lets see how we can do it For Loop!\n"
   ]
  },
  {
   "cell_type": "code",
   "execution_count": 13,
   "metadata": {},
   "outputs": [],
   "source": [
    "# even_numbers = [2,4,6,8]\n",
    "# for i in range(10,21):\n",
    "#     if i%2 == 0: \n",
    "#         even_numbers.append(i)\n"
   ]
  },
  {
   "cell_type": "code",
   "execution_count": 14,
   "metadata": {},
   "outputs": [],
   "source": [
    "StockPrice = {\n",
    "    'GS': [235.00],\n",
    "    'APPL': [219.24],\n",
    "    'TWTR': [29.25],\n",
    "    'MSFT': [114.24]\n",
    "}\n",
    "\n",
    "#Out of the above mentioned tickers, Which one is being traded at the most price? Use for loop\n",
    "\n"
   ]
  },
  {
   "cell_type": "markdown",
   "metadata": {},
   "source": [
    "## Functions\n",
    "\n",
    "A function is a chunk of code that always performs specific task when triggered/called/invoked!\n",
    "\n",
    "Lets use the even_numbers context again."
   ]
  },
  {
   "cell_type": "code",
   "execution_count": 15,
   "metadata": {},
   "outputs": [],
   "source": [
    "#a function to check if the passed arguments are \n",
    "def isEven(number):\n",
    "    if(number%2==0):\n",
    "        return True\n",
    "    else:\n",
    "        return False"
   ]
  },
  {
   "cell_type": "markdown",
   "metadata": {},
   "source": [
    "<img src=\"images/functions.png\">"
   ]
  },
  {
   "cell_type": "code",
   "execution_count": 16,
   "metadata": {},
   "outputs": [],
   "source": [
    "numbers = [1,2,3,4,5,6,7,8]\n",
    "\n",
    "#print all the even numbers in the list above:\n",
    "# for i in numbers:\n",
    "#     if isEven(i):\n",
    "#         print(i)\n",
    "\n"
   ]
  },
  {
   "cell_type": "code",
   "execution_count": 17,
   "metadata": {},
   "outputs": [],
   "source": [
    "numbers = [ 14, 7, 32, 45, 149, 23, 45, 67, 48, 94, 1032, 1450, 14562, 123, 145, 155, 157, 190, 200]\n",
    "\n",
    "#print all the even numbers in the above given list using functions and for loop"
   ]
  },
  {
   "cell_type": "code",
   "execution_count": null,
   "metadata": {},
   "outputs": [],
   "source": []
  },
  {
   "cell_type": "code",
   "execution_count": null,
   "metadata": {},
   "outputs": [],
   "source": []
  }
 ],
 "metadata": {
  "kernelspec": {
   "display_name": "Python 3",
   "language": "python",
   "name": "python3"
  },
  "language_info": {
   "codemirror_mode": {
    "name": "ipython",
    "version": 3
   },
   "file_extension": ".py",
   "mimetype": "text/x-python",
   "name": "python",
   "nbconvert_exporter": "python",
   "pygments_lexer": "ipython3",
   "version": "3.6.4"
  }
 },
 "nbformat": 4,
 "nbformat_minor": 2
}
