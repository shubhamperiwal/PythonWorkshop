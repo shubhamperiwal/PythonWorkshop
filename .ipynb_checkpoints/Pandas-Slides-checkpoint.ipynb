{
 "cells": [
  {
   "cell_type": "markdown",
   "metadata": {
    "slideshow": {
     "slide_type": "slide"
    }
   },
   "source": [
    "# Pandas"
   ]
  },
  {
   "cell_type": "markdown",
   "metadata": {
    "slideshow": {
     "slide_type": "fragment"
    }
   },
   "source": [
    "- Python Data Analysis library\n",
    "- Built on top of Numpy\n",
    "- Name has been derived from Panel Data System\n",
    "    -      An econometrics term for data sets that include observations over multiple time periods for the same individuals\n"
   ]
  },
  {
   "cell_type": "markdown",
   "metadata": {
    "slideshow": {
     "slide_type": "slide"
    }
   },
   "source": [
    "## Why it is used by data scientists"
   ]
  },
  {
   "cell_type": "markdown",
   "metadata": {
    "slideshow": {
     "slide_type": "fragment"
    }
   },
   "source": [
    "- Munging Data \n",
    "    - Converting data from one form to another to make it easier to analyse\n",
    "- Cleaning Data\n",
    "    - Detecting and eradicating corrupt or inaccurate records including missing fields\n",
    "- Analyzing\n",
    "    - Easy to perform calculations and gain insights\n",
    "- Modelling Data\n",
    "    - Easy to define data requirements to answer business questions\n"
   ]
  },
  {
   "cell_type": "markdown",
   "metadata": {
    "slideshow": {
     "slide_type": "slide"
    }
   },
   "source": [
    "## Importing Pandas"
   ]
  },
  {
   "cell_type": "code",
   "execution_count": 1,
   "metadata": {
    "collapsed": true,
    "slideshow": {
     "slide_type": "fragment"
    }
   },
   "outputs": [],
   "source": [
    "import pandas as pd"
   ]
  },
  {
   "cell_type": "markdown",
   "metadata": {
    "slideshow": {
     "slide_type": "slide"
    }
   },
   "source": [
    "## Series"
   ]
  },
  {
   "cell_type": "markdown",
   "metadata": {
    "slideshow": {
     "slide_type": "fragment"
    }
   },
   "source": [
    "- A `Series` is a one-dimensional object similar to an array, list, or column in a table. \n",
    "- It will assign a labeled index to each item in the Series."
   ]
  },
  {
   "cell_type": "code",
   "execution_count": 2,
   "metadata": {
    "slideshow": {
     "slide_type": "fragment"
    }
   },
   "outputs": [
    {
     "data": {
      "text/plain": [
       "0     Apple\n",
       "1    Banana\n",
       "2        43\n",
       "3      65.6\n",
       "4     Final\n",
       "dtype: object"
      ]
     },
     "execution_count": 2,
     "metadata": {},
     "output_type": "execute_result"
    }
   ],
   "source": [
    "s = pd.Series(['Apple', 'Banana', 43, 65.6, 'Final'])\n",
    "s"
   ]
  },
  {
   "cell_type": "code",
   "execution_count": 49,
   "metadata": {
    "slideshow": {
     "slide_type": "fragment"
    }
   },
   "outputs": [
    {
     "data": {
      "text/plain": [
       "1     Apple\n",
       "2    Banana\n",
       "3     Guava\n",
       "4    Tomato\n",
       "5    Potato\n",
       "dtype: object"
      ]
     },
     "execution_count": 49,
     "metadata": {},
     "output_type": "execute_result"
    }
   ],
   "source": [
    "s = pd.Series(['Apple', 'Banana', 'Guava', 'Tomato', 'Potato'], index=['1', '2', '3', '4', '5'])\n",
    "s"
   ]
  },
  {
   "cell_type": "markdown",
   "metadata": {
    "slideshow": {
     "slide_type": "slide"
    }
   },
   "source": [
    "The `Series` constructor can convert a dictonary as well, using the keys of the dictionary as its index."
   ]
  },
  {
   "cell_type": "code",
   "execution_count": 3,
   "metadata": {
    "slideshow": {
     "slide_type": "fragment"
    }
   },
   "outputs": [
    {
     "data": {
      "text/plain": [
       "Austin            450.0\n",
       "Boston              NaN\n",
       "Chicago          1000.0\n",
       "New York         1300.0\n",
       "Portland          900.0\n",
       "San Francisco    1100.0\n",
       "dtype: float64"
      ]
     },
     "execution_count": 3,
     "metadata": {},
     "output_type": "execute_result"
    }
   ],
   "source": [
    "dictionary = {'Chicago': 1000, 'New York': 1300, 'Portland': 900, 'San Francisco': 1100,\n",
    "     'Austin': 450, 'Boston': None}\n",
    "cities = pd.Series(dictionary)\n",
    "cities"
   ]
  },
  {
   "cell_type": "markdown",
   "metadata": {
    "slideshow": {
     "slide_type": "slide"
    }
   },
   "source": [
    "You can use the index to select specific items from the Series ..."
   ]
  },
  {
   "cell_type": "code",
   "execution_count": 4,
   "metadata": {
    "slideshow": {
     "slide_type": "fragment"
    }
   },
   "outputs": [
    {
     "data": {
      "text/plain": [
       "1000.0"
      ]
     },
     "execution_count": 4,
     "metadata": {},
     "output_type": "execute_result"
    }
   ],
   "source": [
    "cities['Chicago']\n"
   ]
  },
  {
   "cell_type": "code",
   "execution_count": 5,
   "metadata": {
    "slideshow": {
     "slide_type": "fragment"
    }
   },
   "outputs": [
    {
     "data": {
      "text/plain": [
       "Chicago          1000.0\n",
       "Portland          900.0\n",
       "San Francisco    1100.0\n",
       "dtype: float64"
      ]
     },
     "execution_count": 5,
     "metadata": {},
     "output_type": "execute_result"
    }
   ],
   "source": [
    "#Use multiple items\n",
    "cities[['Chicago', 'Portland', 'San Francisco']]\n"
   ]
  },
  {
   "cell_type": "markdown",
   "metadata": {
    "slideshow": {
     "slide_type": "slide"
    }
   },
   "source": [
    "Or you can use boolean indexing for selection."
   ]
  },
  {
   "cell_type": "code",
   "execution_count": 6,
   "metadata": {
    "slideshow": {
     "slide_type": "fragment"
    }
   },
   "outputs": [
    {
     "data": {
      "text/plain": [
       "Austin      450.0\n",
       "Portland    900.0\n",
       "dtype: float64"
      ]
     },
     "execution_count": 6,
     "metadata": {},
     "output_type": "execute_result"
    }
   ],
   "source": [
    "cities[cities < 1000]\n"
   ]
  },
  {
   "cell_type": "markdown",
   "metadata": {
    "slideshow": {
     "slide_type": "slide"
    }
   },
   "source": [
    "You can also change the values in a Series on the fly."
   ]
  },
  {
   "cell_type": "code",
   "execution_count": 7,
   "metadata": {
    "scrolled": true,
    "slideshow": {
     "slide_type": "fragment"
    }
   },
   "outputs": [
    {
     "name": "stdout",
     "output_type": "stream",
     "text": [
      "Old value: 1000.0\n",
      "New value: 1400.0\n"
     ]
    }
   ],
   "source": [
    "# changing based on the index\n",
    "print('Old value:', cities['Chicago'])\n",
    "cities['Chicago'] = 1400\n",
    "print('New value:', cities['Chicago'])"
   ]
  },
  {
   "cell_type": "markdown",
   "metadata": {
    "slideshow": {
     "slide_type": "slide"
    }
   },
   "source": [
    "What if you aren't sure whether an item is in the Series? You can check using idiomatic Python."
   ]
  },
  {
   "cell_type": "code",
   "execution_count": 8,
   "metadata": {
    "slideshow": {
     "slide_type": "fragment"
    }
   },
   "outputs": [
    {
     "name": "stdout",
     "output_type": "stream",
     "text": [
      "False\n",
      "True\n"
     ]
    }
   ],
   "source": [
    "print('Seattle' in cities)\n",
    "print('San Francisco' in cities)"
   ]
  },
  {
   "cell_type": "markdown",
   "metadata": {
    "slideshow": {
     "slide_type": "slide"
    }
   },
   "source": [
    "## DataFrames"
   ]
  },
  {
   "cell_type": "markdown",
   "metadata": {
    "slideshow": {
     "slide_type": "fragment"
    }
   },
   "source": [
    "A `DataFrame` (Table) is a 2-dimensional tabular data structure made up of a few components\n",
    "\n",
    "* index - Think of it like column that contains the id for the row. In this data set, there is no index\n",
    "* column\n"
   ]
  },
  {
   "cell_type": "code",
   "execution_count": 50,
   "metadata": {
    "slideshow": {
     "slide_type": "fragment"
    }
   },
   "outputs": [
    {
     "data": {
      "text/html": [
       "<div>\n",
       "<style>\n",
       "    .dataframe thead tr:only-child th {\n",
       "        text-align: right;\n",
       "    }\n",
       "\n",
       "    .dataframe thead th {\n",
       "        text-align: left;\n",
       "    }\n",
       "\n",
       "    .dataframe tbody tr th {\n",
       "        vertical-align: top;\n",
       "    }\n",
       "</style>\n",
       "<table border=\"1\" class=\"dataframe\">\n",
       "  <thead>\n",
       "    <tr style=\"text-align: right;\">\n",
       "      <th></th>\n",
       "      <th>A</th>\n",
       "      <th>B</th>\n",
       "      <th>C</th>\n",
       "    </tr>\n",
       "  </thead>\n",
       "  <tbody>\n",
       "    <tr>\n",
       "      <th>0</th>\n",
       "      <td>a</td>\n",
       "      <td>1</td>\n",
       "      <td>2</td>\n",
       "    </tr>\n",
       "    <tr>\n",
       "      <th>1</th>\n",
       "      <td>b</td>\n",
       "      <td>3</td>\n",
       "      <td>4</td>\n",
       "    </tr>\n",
       "    <tr>\n",
       "      <th>2</th>\n",
       "      <td>c</td>\n",
       "      <td>5</td>\n",
       "      <td>6</td>\n",
       "    </tr>\n",
       "  </tbody>\n",
       "</table>\n",
       "</div>"
      ],
      "text/plain": [
       "   A  B  C\n",
       "0  a  1  2\n",
       "1  b  3  4\n",
       "2  c  5  6"
      ]
     },
     "execution_count": 50,
     "metadata": {},
     "output_type": "execute_result"
    }
   ],
   "source": [
    "#DataFrame({\n",
    "#           col1: {row1: value11, row2: value12},\n",
    "#           col2: {row2: value21, row2: value22}\n",
    "#          })\n",
    "df = pd.DataFrame({\n",
    "        'A': {0: 'a', 1: 'b', 2: 'c'},\n",
    "        'B': {0: 1, 1: 3, 2: 5},\n",
    "        'C': {0: 2, 1: 4, 2: 6}})\n",
    "df"
   ]
  },
  {
   "cell_type": "markdown",
   "metadata": {
    "slideshow": {
     "slide_type": "slide"
    }
   },
   "source": [
    "## Descriptive statistics"
   ]
  },
  {
   "cell_type": "markdown",
   "metadata": {
    "slideshow": {
     "slide_type": "slide"
    }
   },
   "source": [
    "Also: count, sum, median, min, max, abs, prod, std, var, skew, kurt, quantile, cumsum, cumprod, cummax, cummin\n"
   ]
  },
  {
   "cell_type": "code",
   "execution_count": 51,
   "metadata": {
    "slideshow": {
     "slide_type": "fragment"
    }
   },
   "outputs": [
    {
     "data": {
      "text/plain": [
       "B    3.0\n",
       "C    4.0\n",
       "dtype: float64"
      ]
     },
     "execution_count": 51,
     "metadata": {},
     "output_type": "execute_result"
    }
   ],
   "source": [
    "df.mean()"
   ]
  },
  {
   "cell_type": "markdown",
   "metadata": {
    "slideshow": {
     "slide_type": "slide"
    }
   },
   "source": [
    "## Indexes "
   ]
  },
  {
   "cell_type": "code",
   "execution_count": 10,
   "metadata": {
    "slideshow": {
     "slide_type": "fragment"
    }
   },
   "outputs": [
    {
     "data": {
      "text/plain": [
       "[0, 1, 2]"
      ]
     },
     "execution_count": 10,
     "metadata": {},
     "output_type": "execute_result"
    }
   ],
   "source": [
    "df.index.tolist()"
   ]
  },
  {
   "cell_type": "markdown",
   "metadata": {
    "slideshow": {
     "slide_type": "slide"
    }
   },
   "source": [
    "## Importing Data"
   ]
  },
  {
   "cell_type": "markdown",
   "metadata": {
    "slideshow": {
     "slide_type": "fragment"
    }
   },
   "source": [
    "You can easily import data from an excel file to a jupyter notebook using `read_excel`"
   ]
  },
  {
   "cell_type": "code",
   "execution_count": 11,
   "metadata": {
    "slideshow": {
     "slide_type": "fragment"
    }
   },
   "outputs": [
    {
     "data": {
      "text/html": [
       "<div>\n",
       "<style>\n",
       "    .dataframe thead tr:only-child th {\n",
       "        text-align: right;\n",
       "    }\n",
       "\n",
       "    .dataframe thead th {\n",
       "        text-align: left;\n",
       "    }\n",
       "\n",
       "    .dataframe tbody tr th {\n",
       "        vertical-align: top;\n",
       "    }\n",
       "</style>\n",
       "<table border=\"1\" class=\"dataframe\">\n",
       "  <thead>\n",
       "    <tr style=\"text-align: right;\">\n",
       "      <th></th>\n",
       "      <th>year</th>\n",
       "      <th>school</th>\n",
       "      <th>course_type</th>\n",
       "      <th>course_name</th>\n",
       "      <th>gender</th>\n",
       "      <th>no_of_students</th>\n",
       "    </tr>\n",
       "  </thead>\n",
       "  <tbody>\n",
       "    <tr>\n",
       "      <th>0</th>\n",
       "      <td>2017</td>\n",
       "      <td>School of Business &amp; Accountancy</td>\n",
       "      <td>Full-time</td>\n",
       "      <td>Diploma in Accountancy</td>\n",
       "      <td>Female</td>\n",
       "      <td>468</td>\n",
       "    </tr>\n",
       "    <tr>\n",
       "      <th>1</th>\n",
       "      <td>2017</td>\n",
       "      <td>School of Business &amp; Accountancy</td>\n",
       "      <td>Full-time</td>\n",
       "      <td>Diploma in Accountancy</td>\n",
       "      <td>Male</td>\n",
       "      <td>404</td>\n",
       "    </tr>\n",
       "    <tr>\n",
       "      <th>2</th>\n",
       "      <td>2017</td>\n",
       "      <td>School of Business &amp; Accountancy</td>\n",
       "      <td>Full-time</td>\n",
       "      <td>Diploma in Banking &amp; Financial Services</td>\n",
       "      <td>Female</td>\n",
       "      <td>126</td>\n",
       "    </tr>\n",
       "    <tr>\n",
       "      <th>3</th>\n",
       "      <td>2017</td>\n",
       "      <td>School of Business &amp; Accountancy</td>\n",
       "      <td>Full-time</td>\n",
       "      <td>Diploma in Banking &amp; Financial Services</td>\n",
       "      <td>Male</td>\n",
       "      <td>180</td>\n",
       "    </tr>\n",
       "    <tr>\n",
       "      <th>4</th>\n",
       "      <td>2017</td>\n",
       "      <td>School of Business &amp; Accountancy</td>\n",
       "      <td>Full-time</td>\n",
       "      <td>Diploma in Business Information Technology</td>\n",
       "      <td>Female</td>\n",
       "      <td>68</td>\n",
       "    </tr>\n",
       "  </tbody>\n",
       "</table>\n",
       "</div>"
      ],
      "text/plain": [
       "   year                            school course_type  \\\n",
       "0  2017  School of Business & Accountancy   Full-time   \n",
       "1  2017  School of Business & Accountancy   Full-time   \n",
       "2  2017  School of Business & Accountancy   Full-time   \n",
       "3  2017  School of Business & Accountancy   Full-time   \n",
       "4  2017  School of Business & Accountancy   Full-time   \n",
       "\n",
       "                                  course_name  gender  no_of_students  \n",
       "0                      Diploma in Accountancy  Female             468  \n",
       "1                      Diploma in Accountancy    Male             404  \n",
       "2     Diploma in Banking & Financial Services  Female             126  \n",
       "3     Diploma in Banking & Financial Services    Male             180  \n",
       "4  Diploma in Business Information Technology  Female              68  "
      ]
     },
     "execution_count": 11,
     "metadata": {},
     "output_type": "execute_result"
    }
   ],
   "source": [
    "df = pd.read_excel('C:/Users/smart/OneDrive - Singapore Management University/SMU/BIA/Curriculum/Workshop-Github/PythonWorkshop/resources/enrollment.xlsx')\n",
    "\n",
    "#Print the top 5 rows using df.head(5)\n",
    "df.head(5)"
   ]
  },
  {
   "cell_type": "markdown",
   "metadata": {
    "slideshow": {
     "slide_type": "slide"
    }
   },
   "source": [
    "With `read_table`, you can also create Dataframes using URLs"
   ]
  },
  {
   "cell_type": "code",
   "execution_count": 12,
   "metadata": {
    "slideshow": {
     "slide_type": "fragment"
    }
   },
   "outputs": [
    {
     "data": {
      "text/html": [
       "<div>\n",
       "<style>\n",
       "    .dataframe thead tr:only-child th {\n",
       "        text-align: right;\n",
       "    }\n",
       "\n",
       "    .dataframe thead th {\n",
       "        text-align: left;\n",
       "    }\n",
       "\n",
       "    .dataframe tbody tr th {\n",
       "        vertical-align: top;\n",
       "    }\n",
       "</style>\n",
       "<table border=\"1\" class=\"dataframe\">\n",
       "  <thead>\n",
       "    <tr style=\"text-align: right;\">\n",
       "      <th></th>\n",
       "      <th>rank</th>\n",
       "      <th>sandwich</th>\n",
       "      <th>restaurant</th>\n",
       "      <th>description</th>\n",
       "      <th>price</th>\n",
       "      <th>address</th>\n",
       "      <th>city</th>\n",
       "      <th>phone</th>\n",
       "      <th>website</th>\n",
       "      <th>full_address</th>\n",
       "      <th>formatted_address</th>\n",
       "      <th>lat</th>\n",
       "      <th>lng</th>\n",
       "    </tr>\n",
       "  </thead>\n",
       "  <tbody>\n",
       "    <tr>\n",
       "      <th>0</th>\n",
       "      <td>1</td>\n",
       "      <td>BLT</td>\n",
       "      <td>Old Oak Tap</td>\n",
       "      <td>The B is applewood smoked&amp;mdash;nice and snapp...</td>\n",
       "      <td>$10</td>\n",
       "      <td>2109 W. Chicago Ave.</td>\n",
       "      <td>Chicago</td>\n",
       "      <td>773-772-0406</td>\n",
       "      <td>theoldoaktap.com</td>\n",
       "      <td>2109 W. Chicago Ave., Chicago</td>\n",
       "      <td>2109 West Chicago Avenue, Chicago, IL 60622, USA</td>\n",
       "      <td>41.895734</td>\n",
       "      <td>-87.679960</td>\n",
       "    </tr>\n",
       "    <tr>\n",
       "      <th>1</th>\n",
       "      <td>2</td>\n",
       "      <td>Fried Bologna</td>\n",
       "      <td>Au Cheval</td>\n",
       "      <td>Thought your bologna-eating days had retired w...</td>\n",
       "      <td>$9</td>\n",
       "      <td>800 W. Randolph St.</td>\n",
       "      <td>Chicago</td>\n",
       "      <td>312-929-4580</td>\n",
       "      <td>aucheval.tumblr.com</td>\n",
       "      <td>800 W. Randolph St., Chicago</td>\n",
       "      <td>800 West Randolph Street, Chicago, IL 60607, USA</td>\n",
       "      <td>41.884672</td>\n",
       "      <td>-87.647754</td>\n",
       "    </tr>\n",
       "    <tr>\n",
       "      <th>2</th>\n",
       "      <td>3</td>\n",
       "      <td>Woodland Mushroom</td>\n",
       "      <td>Xoco</td>\n",
       "      <td>Leave it to Rick Bayless and crew to come up w...</td>\n",
       "      <td>$9.50.</td>\n",
       "      <td>445 N. Clark St.</td>\n",
       "      <td>Chicago</td>\n",
       "      <td>312-334-3688</td>\n",
       "      <td>rickbayless.com</td>\n",
       "      <td>445 N. Clark St., Chicago</td>\n",
       "      <td>445 North Clark Street, Chicago, IL 60654, USA</td>\n",
       "      <td>41.890602</td>\n",
       "      <td>-87.630925</td>\n",
       "    </tr>\n",
       "  </tbody>\n",
       "</table>\n",
       "</div>"
      ],
      "text/plain": [
       "   rank           sandwich   restaurant  \\\n",
       "0     1                BLT  Old Oak Tap   \n",
       "1     2      Fried Bologna    Au Cheval   \n",
       "2     3  Woodland Mushroom         Xoco   \n",
       "\n",
       "                                         description   price  \\\n",
       "0  The B is applewood smoked&mdash;nice and snapp...     $10   \n",
       "1  Thought your bologna-eating days had retired w...      $9   \n",
       "2  Leave it to Rick Bayless and crew to come up w...  $9.50.   \n",
       "\n",
       "                address     city         phone              website  \\\n",
       "0  2109 W. Chicago Ave.  Chicago  773-772-0406     theoldoaktap.com   \n",
       "1   800 W. Randolph St.  Chicago  312-929-4580  aucheval.tumblr.com   \n",
       "2      445 N. Clark St.  Chicago  312-334-3688      rickbayless.com   \n",
       "\n",
       "                    full_address  \\\n",
       "0  2109 W. Chicago Ave., Chicago   \n",
       "1   800 W. Randolph St., Chicago   \n",
       "2      445 N. Clark St., Chicago   \n",
       "\n",
       "                                  formatted_address        lat        lng  \n",
       "0  2109 West Chicago Avenue, Chicago, IL 60622, USA  41.895734 -87.679960  \n",
       "1  800 West Randolph Street, Chicago, IL 60607, USA  41.884672 -87.647754  \n",
       "2    445 North Clark Street, Chicago, IL 60654, USA  41.890602 -87.630925  "
      ]
     },
     "execution_count": 12,
     "metadata": {},
     "output_type": "execute_result"
    }
   ],
   "source": [
    "url = 'https://raw.github.com/gjreda/best-sandwiches/master/data/best-sandwiches-geocode.tsv'\n",
    "\n",
    "# fetch the text from the URL and read it into a DataFrame\n",
    "df_url = pd.read_table(url, sep='\\t')\n",
    "df_url.head(3)"
   ]
  },
  {
   "cell_type": "markdown",
   "metadata": {
    "slideshow": {
     "slide_type": "slide"
    }
   },
   "source": [
    "## Common Operations on DataFrames"
   ]
  },
  {
   "cell_type": "markdown",
   "metadata": {
    "slideshow": {
     "slide_type": "slide"
    }
   },
   "source": [
    "** Accessing a table **"
   ]
  },
  {
   "cell_type": "code",
   "execution_count": 13,
   "metadata": {
    "slideshow": {
     "slide_type": "fragment"
    }
   },
   "outputs": [
    {
     "data": {
      "text/plain": [
       "0    2017\n",
       "1    2017\n",
       "2    2017\n",
       "3    2017\n",
       "4    2017\n",
       "Name: year, dtype: int64"
      ]
     },
     "execution_count": 13,
     "metadata": {},
     "output_type": "execute_result"
    }
   ],
   "source": [
    "# table_variable['column_name']\n",
    "\n",
    "df['year'].head(5)"
   ]
  },
  {
   "cell_type": "markdown",
   "metadata": {
    "slideshow": {
     "slide_type": "slide"
    }
   },
   "source": [
    "**Modifying a Column**\n",
    "\n",
    "In this example, we are setting the `no_of_students` to a fixed value of 5"
   ]
  },
  {
   "cell_type": "code",
   "execution_count": 14,
   "metadata": {
    "slideshow": {
     "slide_type": "fragment"
    }
   },
   "outputs": [
    {
     "data": {
      "text/html": [
       "<div>\n",
       "<style>\n",
       "    .dataframe thead tr:only-child th {\n",
       "        text-align: right;\n",
       "    }\n",
       "\n",
       "    .dataframe thead th {\n",
       "        text-align: left;\n",
       "    }\n",
       "\n",
       "    .dataframe tbody tr th {\n",
       "        vertical-align: top;\n",
       "    }\n",
       "</style>\n",
       "<table border=\"1\" class=\"dataframe\">\n",
       "  <thead>\n",
       "    <tr style=\"text-align: right;\">\n",
       "      <th></th>\n",
       "      <th>year</th>\n",
       "      <th>school</th>\n",
       "      <th>course_type</th>\n",
       "      <th>course_name</th>\n",
       "      <th>gender</th>\n",
       "      <th>no_of_students</th>\n",
       "    </tr>\n",
       "  </thead>\n",
       "  <tbody>\n",
       "    <tr>\n",
       "      <th>0</th>\n",
       "      <td>2017</td>\n",
       "      <td>School of Business &amp; Accountancy</td>\n",
       "      <td>Full-time</td>\n",
       "      <td>Diploma in Accountancy</td>\n",
       "      <td>Female</td>\n",
       "      <td>5</td>\n",
       "    </tr>\n",
       "    <tr>\n",
       "      <th>1</th>\n",
       "      <td>2017</td>\n",
       "      <td>School of Business &amp; Accountancy</td>\n",
       "      <td>Full-time</td>\n",
       "      <td>Diploma in Accountancy</td>\n",
       "      <td>Male</td>\n",
       "      <td>5</td>\n",
       "    </tr>\n",
       "    <tr>\n",
       "      <th>2</th>\n",
       "      <td>2017</td>\n",
       "      <td>School of Business &amp; Accountancy</td>\n",
       "      <td>Full-time</td>\n",
       "      <td>Diploma in Banking &amp; Financial Services</td>\n",
       "      <td>Female</td>\n",
       "      <td>5</td>\n",
       "    </tr>\n",
       "    <tr>\n",
       "      <th>3</th>\n",
       "      <td>2017</td>\n",
       "      <td>School of Business &amp; Accountancy</td>\n",
       "      <td>Full-time</td>\n",
       "      <td>Diploma in Banking &amp; Financial Services</td>\n",
       "      <td>Male</td>\n",
       "      <td>5</td>\n",
       "    </tr>\n",
       "    <tr>\n",
       "      <th>4</th>\n",
       "      <td>2017</td>\n",
       "      <td>School of Business &amp; Accountancy</td>\n",
       "      <td>Full-time</td>\n",
       "      <td>Diploma in Business Information Technology</td>\n",
       "      <td>Female</td>\n",
       "      <td>5</td>\n",
       "    </tr>\n",
       "  </tbody>\n",
       "</table>\n",
       "</div>"
      ],
      "text/plain": [
       "   year                            school course_type  \\\n",
       "0  2017  School of Business & Accountancy   Full-time   \n",
       "1  2017  School of Business & Accountancy   Full-time   \n",
       "2  2017  School of Business & Accountancy   Full-time   \n",
       "3  2017  School of Business & Accountancy   Full-time   \n",
       "4  2017  School of Business & Accountancy   Full-time   \n",
       "\n",
       "                                  course_name  gender  no_of_students  \n",
       "0                      Diploma in Accountancy  Female               5  \n",
       "1                      Diploma in Accountancy    Male               5  \n",
       "2     Diploma in Banking & Financial Services  Female               5  \n",
       "3     Diploma in Banking & Financial Services    Male               5  \n",
       "4  Diploma in Business Information Technology  Female               5  "
      ]
     },
     "execution_count": 14,
     "metadata": {},
     "output_type": "execute_result"
    }
   ],
   "source": [
    "new_df= df.copy()\n",
    "\n",
    "new_df['no_of_students'] = 5\n",
    "\n",
    "new_df.head(5)"
   ]
  },
  {
   "cell_type": "markdown",
   "metadata": {
    "slideshow": {
     "slide_type": "slide"
    }
   },
   "source": [
    "We can use existing columns. Like in excel where you have a formula for cell `C1` as\n",
    "\n",
    "```\n",
    "= A1 + B1\n",
    "```\n",
    "\n",
    "In pandas you would have\n",
    "\n",
    "```\n",
    "df['C'] = df['A'] + df['B']\n",
    "```\n",
    "\n",
    "Where the formula applies to the entire column"
   ]
  },
  {
   "cell_type": "code",
   "execution_count": 15,
   "metadata": {
    "slideshow": {
     "slide_type": "fragment"
    }
   },
   "outputs": [
    {
     "data": {
      "text/html": [
       "<div>\n",
       "<style>\n",
       "    .dataframe thead tr:only-child th {\n",
       "        text-align: right;\n",
       "    }\n",
       "\n",
       "    .dataframe thead th {\n",
       "        text-align: left;\n",
       "    }\n",
       "\n",
       "    .dataframe tbody tr th {\n",
       "        vertical-align: top;\n",
       "    }\n",
       "</style>\n",
       "<table border=\"1\" class=\"dataframe\">\n",
       "  <thead>\n",
       "    <tr style=\"text-align: right;\">\n",
       "      <th></th>\n",
       "      <th>year</th>\n",
       "      <th>school</th>\n",
       "      <th>course_type</th>\n",
       "      <th>course_name</th>\n",
       "      <th>gender</th>\n",
       "      <th>no_of_students</th>\n",
       "    </tr>\n",
       "  </thead>\n",
       "  <tbody>\n",
       "    <tr>\n",
       "      <th>0</th>\n",
       "      <td>2017</td>\n",
       "      <td>School of Business &amp; Accountancy</td>\n",
       "      <td>Full-time</td>\n",
       "      <td>Diploma in Accountancy</td>\n",
       "      <td>Female</td>\n",
       "      <td>469</td>\n",
       "    </tr>\n",
       "    <tr>\n",
       "      <th>1</th>\n",
       "      <td>2017</td>\n",
       "      <td>School of Business &amp; Accountancy</td>\n",
       "      <td>Full-time</td>\n",
       "      <td>Diploma in Accountancy</td>\n",
       "      <td>Male</td>\n",
       "      <td>405</td>\n",
       "    </tr>\n",
       "    <tr>\n",
       "      <th>2</th>\n",
       "      <td>2017</td>\n",
       "      <td>School of Business &amp; Accountancy</td>\n",
       "      <td>Full-time</td>\n",
       "      <td>Diploma in Banking &amp; Financial Services</td>\n",
       "      <td>Female</td>\n",
       "      <td>127</td>\n",
       "    </tr>\n",
       "    <tr>\n",
       "      <th>3</th>\n",
       "      <td>2017</td>\n",
       "      <td>School of Business &amp; Accountancy</td>\n",
       "      <td>Full-time</td>\n",
       "      <td>Diploma in Banking &amp; Financial Services</td>\n",
       "      <td>Male</td>\n",
       "      <td>181</td>\n",
       "    </tr>\n",
       "    <tr>\n",
       "      <th>4</th>\n",
       "      <td>2017</td>\n",
       "      <td>School of Business &amp; Accountancy</td>\n",
       "      <td>Full-time</td>\n",
       "      <td>Diploma in Business Information Technology</td>\n",
       "      <td>Female</td>\n",
       "      <td>69</td>\n",
       "    </tr>\n",
       "  </tbody>\n",
       "</table>\n",
       "</div>"
      ],
      "text/plain": [
       "   year                            school course_type  \\\n",
       "0  2017  School of Business & Accountancy   Full-time   \n",
       "1  2017  School of Business & Accountancy   Full-time   \n",
       "2  2017  School of Business & Accountancy   Full-time   \n",
       "3  2017  School of Business & Accountancy   Full-time   \n",
       "4  2017  School of Business & Accountancy   Full-time   \n",
       "\n",
       "                                  course_name  gender  no_of_students  \n",
       "0                      Diploma in Accountancy  Female             469  \n",
       "1                      Diploma in Accountancy    Male             405  \n",
       "2     Diploma in Banking & Financial Services  Female             127  \n",
       "3     Diploma in Banking & Financial Services    Male             181  \n",
       "4  Diploma in Business Information Technology  Female              69  "
      ]
     },
     "execution_count": 15,
     "metadata": {},
     "output_type": "execute_result"
    }
   ],
   "source": [
    "new_df = df.copy()\n",
    "\n",
    "# In this example, you are adding 1 to the existing no_of_students column\n",
    "\n",
    "new_df['no_of_students'] = new_df['no_of_students'] + 1\n",
    "\n",
    "new_df.head(5)"
   ]
  },
  {
   "cell_type": "markdown",
   "metadata": {
    "slideshow": {
     "slide_type": "slide"
    }
   },
   "source": [
    "** Using .pivot() **"
   ]
  },
  {
   "cell_type": "markdown",
   "metadata": {
    "slideshow": {
     "slide_type": "fragment"
    }
   },
   "source": [
    "Reshape data (produce a “pivot” table) based on column values. Uses unique values from index / columns to form axes of the resulting DataFrame."
   ]
  },
  {
   "cell_type": "code",
   "execution_count": 16,
   "metadata": {
    "slideshow": {
     "slide_type": "fragment"
    }
   },
   "outputs": [
    {
     "data": {
      "text/html": [
       "<div>\n",
       "<style>\n",
       "    .dataframe thead tr:only-child th {\n",
       "        text-align: right;\n",
       "    }\n",
       "\n",
       "    .dataframe thead th {\n",
       "        text-align: left;\n",
       "    }\n",
       "\n",
       "    .dataframe tbody tr th {\n",
       "        vertical-align: top;\n",
       "    }\n",
       "</style>\n",
       "<table border=\"1\" class=\"dataframe\">\n",
       "  <thead>\n",
       "    <tr style=\"text-align: right;\">\n",
       "      <th></th>\n",
       "      <th>age</th>\n",
       "      <th>class</th>\n",
       "      <th>gender</th>\n",
       "      <th>test_score</th>\n",
       "    </tr>\n",
       "  </thead>\n",
       "  <tbody>\n",
       "    <tr>\n",
       "      <th>0</th>\n",
       "      <td>10</td>\n",
       "      <td>A</td>\n",
       "      <td>girl</td>\n",
       "      <td>7</td>\n",
       "    </tr>\n",
       "    <tr>\n",
       "      <th>1</th>\n",
       "      <td>12</td>\n",
       "      <td>B</td>\n",
       "      <td>girl</td>\n",
       "      <td>6</td>\n",
       "    </tr>\n",
       "    <tr>\n",
       "      <th>2</th>\n",
       "      <td>13</td>\n",
       "      <td>C</td>\n",
       "      <td>girl</td>\n",
       "      <td>4</td>\n",
       "    </tr>\n",
       "    <tr>\n",
       "      <th>3</th>\n",
       "      <td>14</td>\n",
       "      <td>A</td>\n",
       "      <td>guy</td>\n",
       "      <td>3</td>\n",
       "    </tr>\n",
       "    <tr>\n",
       "      <th>4</th>\n",
       "      <td>15</td>\n",
       "      <td>B</td>\n",
       "      <td>guy</td>\n",
       "      <td>2</td>\n",
       "    </tr>\n",
       "    <tr>\n",
       "      <th>5</th>\n",
       "      <td>16</td>\n",
       "      <td>C</td>\n",
       "      <td>guy</td>\n",
       "      <td>1</td>\n",
       "    </tr>\n",
       "  </tbody>\n",
       "</table>\n",
       "</div>"
      ],
      "text/plain": [
       "   age class gender  test_score\n",
       "0   10     A   girl           7\n",
       "1   12     B   girl           6\n",
       "2   13     C   girl           4\n",
       "3   14     A    guy           3\n",
       "4   15     B    guy           2\n",
       "5   16     C    guy           1"
      ]
     },
     "execution_count": 16,
     "metadata": {},
     "output_type": "execute_result"
    }
   ],
   "source": [
    "df_pivot = pd.DataFrame({'gender': ['girl','girl','girl','guy','guy','guy'],\n",
    "                       'class': ['A', 'B', 'C', 'A', 'B', 'C'],\n",
    "                       'age': [10, 12, 13, 14, 15, 16],\n",
    "                      'test_score': [7,6,4,3,2,1]})\n",
    "df_pivot"
   ]
  },
  {
   "cell_type": "code",
   "execution_count": 17,
   "metadata": {
    "slideshow": {
     "slide_type": "fragment"
    }
   },
   "outputs": [
    {
     "data": {
      "text/html": [
       "<div>\n",
       "<style>\n",
       "    .dataframe thead tr:only-child th {\n",
       "        text-align: right;\n",
       "    }\n",
       "\n",
       "    .dataframe thead th {\n",
       "        text-align: left;\n",
       "    }\n",
       "\n",
       "    .dataframe tbody tr th {\n",
       "        vertical-align: top;\n",
       "    }\n",
       "</style>\n",
       "<table border=\"1\" class=\"dataframe\">\n",
       "  <thead>\n",
       "    <tr style=\"text-align: right;\">\n",
       "      <th>class</th>\n",
       "      <th>A</th>\n",
       "      <th>B</th>\n",
       "      <th>C</th>\n",
       "    </tr>\n",
       "    <tr>\n",
       "      <th>gender</th>\n",
       "      <th></th>\n",
       "      <th></th>\n",
       "      <th></th>\n",
       "    </tr>\n",
       "  </thead>\n",
       "  <tbody>\n",
       "    <tr>\n",
       "      <th>girl</th>\n",
       "      <td>7</td>\n",
       "      <td>6</td>\n",
       "      <td>4</td>\n",
       "    </tr>\n",
       "    <tr>\n",
       "      <th>guy</th>\n",
       "      <td>3</td>\n",
       "      <td>2</td>\n",
       "      <td>1</td>\n",
       "    </tr>\n",
       "  </tbody>\n",
       "</table>\n",
       "</div>"
      ],
      "text/plain": [
       "class   A  B  C\n",
       "gender         \n",
       "girl    7  6  4\n",
       "guy     3  2  1"
      ]
     },
     "execution_count": 17,
     "metadata": {},
     "output_type": "execute_result"
    }
   ],
   "source": [
    "df_pivot.pivot(index='gender', columns='class')['test_score']"
   ]
  },
  {
   "cell_type": "markdown",
   "metadata": {
    "slideshow": {
     "slide_type": "slide"
    }
   },
   "source": [
    "** .merge() **"
   ]
  },
  {
   "cell_type": "code",
   "execution_count": 18,
   "metadata": {
    "slideshow": {
     "slide_type": "fragment"
    }
   },
   "outputs": [
    {
     "data": {
      "text/html": [
       "<div>\n",
       "<style>\n",
       "    .dataframe thead tr:only-child th {\n",
       "        text-align: right;\n",
       "    }\n",
       "\n",
       "    .dataframe thead th {\n",
       "        text-align: left;\n",
       "    }\n",
       "\n",
       "    .dataframe tbody tr th {\n",
       "        vertical-align: top;\n",
       "    }\n",
       "</style>\n",
       "<table border=\"1\" class=\"dataframe\">\n",
       "  <thead>\n",
       "    <tr style=\"text-align: right;\">\n",
       "      <th></th>\n",
       "      <th>age</th>\n",
       "      <th>class</th>\n",
       "      <th>gender</th>\n",
       "      <th>test_score</th>\n",
       "    </tr>\n",
       "  </thead>\n",
       "  <tbody>\n",
       "    <tr>\n",
       "      <th>0</th>\n",
       "      <td>10</td>\n",
       "      <td>A</td>\n",
       "      <td>girl</td>\n",
       "      <td>7</td>\n",
       "    </tr>\n",
       "    <tr>\n",
       "      <th>1</th>\n",
       "      <td>12</td>\n",
       "      <td>B</td>\n",
       "      <td>girl</td>\n",
       "      <td>6</td>\n",
       "    </tr>\n",
       "    <tr>\n",
       "      <th>2</th>\n",
       "      <td>13</td>\n",
       "      <td>C</td>\n",
       "      <td>NaN</td>\n",
       "      <td>4</td>\n",
       "    </tr>\n",
       "    <tr>\n",
       "      <th>3</th>\n",
       "      <td>14</td>\n",
       "      <td>A</td>\n",
       "      <td>guy</td>\n",
       "      <td>3</td>\n",
       "    </tr>\n",
       "    <tr>\n",
       "      <th>4</th>\n",
       "      <td>15</td>\n",
       "      <td>B</td>\n",
       "      <td>guy</td>\n",
       "      <td>2</td>\n",
       "    </tr>\n",
       "    <tr>\n",
       "      <th>5</th>\n",
       "      <td>16</td>\n",
       "      <td>C</td>\n",
       "      <td>guy</td>\n",
       "      <td>1</td>\n",
       "    </tr>\n",
       "  </tbody>\n",
       "</table>\n",
       "</div>"
      ],
      "text/plain": [
       "   age class gender  test_score\n",
       "0   10     A   girl           7\n",
       "1   12     B   girl           6\n",
       "2   13     C    NaN           4\n",
       "3   14     A    guy           3\n",
       "4   15     B    guy           2\n",
       "5   16     C    guy           1"
      ]
     },
     "execution_count": 18,
     "metadata": {},
     "output_type": "execute_result"
    }
   ],
   "source": [
    "import numpy as np\n",
    "\n",
    "#imported numpy just to use np.Nan feature below\n",
    "df_1 = pd.DataFrame({'gender': ['girl','girl',np.NaN,'guy','guy','guy'],\n",
    "                       'class': ['A', 'B', 'C', 'A', 'B', 'C'],\n",
    "                       'age': [10, 12, 13, 14, 15, 16],\n",
    "                      'test_score': [7,6,4,3,2,1]})\n",
    "df_1"
   ]
  },
  {
   "cell_type": "code",
   "execution_count": 19,
   "metadata": {
    "slideshow": {
     "slide_type": "fragment"
    }
   },
   "outputs": [
    {
     "data": {
      "text/html": [
       "<div>\n",
       "<style>\n",
       "    .dataframe thead tr:only-child th {\n",
       "        text-align: right;\n",
       "    }\n",
       "\n",
       "    .dataframe thead th {\n",
       "        text-align: left;\n",
       "    }\n",
       "\n",
       "    .dataframe tbody tr th {\n",
       "        vertical-align: top;\n",
       "    }\n",
       "</style>\n",
       "<table border=\"1\" class=\"dataframe\">\n",
       "  <thead>\n",
       "    <tr style=\"text-align: right;\">\n",
       "      <th></th>\n",
       "      <th>gender</th>\n",
       "      <th>hair_length</th>\n",
       "    </tr>\n",
       "  </thead>\n",
       "  <tbody>\n",
       "    <tr>\n",
       "      <th>0</th>\n",
       "      <td>girl</td>\n",
       "      <td>long</td>\n",
       "    </tr>\n",
       "    <tr>\n",
       "      <th>1</th>\n",
       "      <td>guy</td>\n",
       "      <td>short</td>\n",
       "    </tr>\n",
       "  </tbody>\n",
       "</table>\n",
       "</div>"
      ],
      "text/plain": [
       "  gender hair_length\n",
       "0   girl        long\n",
       "1    guy       short"
      ]
     },
     "execution_count": 19,
     "metadata": {},
     "output_type": "execute_result"
    }
   ],
   "source": [
    "df_2 = pd.DataFrame({'gender': ['girl','guy'],\n",
    "                       'hair_length': [ 'long', 'short']})\n",
    "df_2"
   ]
  },
  {
   "cell_type": "markdown",
   "metadata": {
    "slideshow": {
     "slide_type": "slide"
    }
   },
   "source": [
    "<img src=\"resources/merge-image.jpg\"/>"
   ]
  },
  {
   "cell_type": "markdown",
   "metadata": {
    "slideshow": {
     "slide_type": "slide"
    }
   },
   "source": [
    "** Outer join **"
   ]
  },
  {
   "cell_type": "code",
   "execution_count": 20,
   "metadata": {
    "slideshow": {
     "slide_type": "fragment"
    }
   },
   "outputs": [
    {
     "data": {
      "text/html": [
       "<div>\n",
       "<style>\n",
       "    .dataframe thead tr:only-child th {\n",
       "        text-align: right;\n",
       "    }\n",
       "\n",
       "    .dataframe thead th {\n",
       "        text-align: left;\n",
       "    }\n",
       "\n",
       "    .dataframe tbody tr th {\n",
       "        vertical-align: top;\n",
       "    }\n",
       "</style>\n",
       "<table border=\"1\" class=\"dataframe\">\n",
       "  <thead>\n",
       "    <tr style=\"text-align: right;\">\n",
       "      <th></th>\n",
       "      <th>age</th>\n",
       "      <th>class</th>\n",
       "      <th>gender</th>\n",
       "      <th>test_score</th>\n",
       "      <th>hair_length</th>\n",
       "    </tr>\n",
       "  </thead>\n",
       "  <tbody>\n",
       "    <tr>\n",
       "      <th>0</th>\n",
       "      <td>10</td>\n",
       "      <td>A</td>\n",
       "      <td>girl</td>\n",
       "      <td>7</td>\n",
       "      <td>long</td>\n",
       "    </tr>\n",
       "    <tr>\n",
       "      <th>1</th>\n",
       "      <td>12</td>\n",
       "      <td>B</td>\n",
       "      <td>girl</td>\n",
       "      <td>6</td>\n",
       "      <td>long</td>\n",
       "    </tr>\n",
       "    <tr>\n",
       "      <th>2</th>\n",
       "      <td>13</td>\n",
       "      <td>C</td>\n",
       "      <td>NaN</td>\n",
       "      <td>4</td>\n",
       "      <td>NaN</td>\n",
       "    </tr>\n",
       "    <tr>\n",
       "      <th>3</th>\n",
       "      <td>14</td>\n",
       "      <td>A</td>\n",
       "      <td>guy</td>\n",
       "      <td>3</td>\n",
       "      <td>short</td>\n",
       "    </tr>\n",
       "    <tr>\n",
       "      <th>4</th>\n",
       "      <td>15</td>\n",
       "      <td>B</td>\n",
       "      <td>guy</td>\n",
       "      <td>2</td>\n",
       "      <td>short</td>\n",
       "    </tr>\n",
       "    <tr>\n",
       "      <th>5</th>\n",
       "      <td>16</td>\n",
       "      <td>C</td>\n",
       "      <td>guy</td>\n",
       "      <td>1</td>\n",
       "      <td>short</td>\n",
       "    </tr>\n",
       "  </tbody>\n",
       "</table>\n",
       "</div>"
      ],
      "text/plain": [
       "   age class gender  test_score hair_length\n",
       "0   10     A   girl           7        long\n",
       "1   12     B   girl           6        long\n",
       "2   13     C    NaN           4         NaN\n",
       "3   14     A    guy           3       short\n",
       "4   15     B    guy           2       short\n",
       "5   16     C    guy           1       short"
      ]
     },
     "execution_count": 20,
     "metadata": {},
     "output_type": "execute_result"
    }
   ],
   "source": [
    "df_1.merge(df_2, on='gender', how='outer')"
   ]
  },
  {
   "cell_type": "markdown",
   "metadata": {
    "slideshow": {
     "slide_type": "slide"
    }
   },
   "source": [
    "** Inner join **"
   ]
  },
  {
   "cell_type": "code",
   "execution_count": 21,
   "metadata": {
    "slideshow": {
     "slide_type": "fragment"
    }
   },
   "outputs": [
    {
     "data": {
      "text/html": [
       "<div>\n",
       "<style>\n",
       "    .dataframe thead tr:only-child th {\n",
       "        text-align: right;\n",
       "    }\n",
       "\n",
       "    .dataframe thead th {\n",
       "        text-align: left;\n",
       "    }\n",
       "\n",
       "    .dataframe tbody tr th {\n",
       "        vertical-align: top;\n",
       "    }\n",
       "</style>\n",
       "<table border=\"1\" class=\"dataframe\">\n",
       "  <thead>\n",
       "    <tr style=\"text-align: right;\">\n",
       "      <th></th>\n",
       "      <th>age</th>\n",
       "      <th>class</th>\n",
       "      <th>gender</th>\n",
       "      <th>test_score</th>\n",
       "      <th>hair_length</th>\n",
       "    </tr>\n",
       "  </thead>\n",
       "  <tbody>\n",
       "    <tr>\n",
       "      <th>0</th>\n",
       "      <td>10</td>\n",
       "      <td>A</td>\n",
       "      <td>girl</td>\n",
       "      <td>7</td>\n",
       "      <td>long</td>\n",
       "    </tr>\n",
       "    <tr>\n",
       "      <th>1</th>\n",
       "      <td>12</td>\n",
       "      <td>B</td>\n",
       "      <td>girl</td>\n",
       "      <td>6</td>\n",
       "      <td>long</td>\n",
       "    </tr>\n",
       "    <tr>\n",
       "      <th>2</th>\n",
       "      <td>14</td>\n",
       "      <td>A</td>\n",
       "      <td>guy</td>\n",
       "      <td>3</td>\n",
       "      <td>short</td>\n",
       "    </tr>\n",
       "    <tr>\n",
       "      <th>3</th>\n",
       "      <td>15</td>\n",
       "      <td>B</td>\n",
       "      <td>guy</td>\n",
       "      <td>2</td>\n",
       "      <td>short</td>\n",
       "    </tr>\n",
       "    <tr>\n",
       "      <th>4</th>\n",
       "      <td>16</td>\n",
       "      <td>C</td>\n",
       "      <td>guy</td>\n",
       "      <td>1</td>\n",
       "      <td>short</td>\n",
       "    </tr>\n",
       "  </tbody>\n",
       "</table>\n",
       "</div>"
      ],
      "text/plain": [
       "   age class gender  test_score hair_length\n",
       "0   10     A   girl           7        long\n",
       "1   12     B   girl           6        long\n",
       "2   14     A    guy           3       short\n",
       "3   15     B    guy           2       short\n",
       "4   16     C    guy           1       short"
      ]
     },
     "execution_count": 21,
     "metadata": {},
     "output_type": "execute_result"
    }
   ],
   "source": [
    "df_1.merge(df_2, on='gender', how='inner')"
   ]
  },
  {
   "cell_type": "markdown",
   "metadata": {
    "slideshow": {
     "slide_type": "slide"
    }
   },
   "source": [
    "** Left join **"
   ]
  },
  {
   "cell_type": "code",
   "execution_count": 22,
   "metadata": {
    "slideshow": {
     "slide_type": "fragment"
    }
   },
   "outputs": [
    {
     "data": {
      "text/html": [
       "<div>\n",
       "<style>\n",
       "    .dataframe thead tr:only-child th {\n",
       "        text-align: right;\n",
       "    }\n",
       "\n",
       "    .dataframe thead th {\n",
       "        text-align: left;\n",
       "    }\n",
       "\n",
       "    .dataframe tbody tr th {\n",
       "        vertical-align: top;\n",
       "    }\n",
       "</style>\n",
       "<table border=\"1\" class=\"dataframe\">\n",
       "  <thead>\n",
       "    <tr style=\"text-align: right;\">\n",
       "      <th></th>\n",
       "      <th>age</th>\n",
       "      <th>class</th>\n",
       "      <th>gender</th>\n",
       "      <th>test_score</th>\n",
       "      <th>hair_length</th>\n",
       "    </tr>\n",
       "  </thead>\n",
       "  <tbody>\n",
       "    <tr>\n",
       "      <th>0</th>\n",
       "      <td>10</td>\n",
       "      <td>A</td>\n",
       "      <td>girl</td>\n",
       "      <td>7</td>\n",
       "      <td>long</td>\n",
       "    </tr>\n",
       "    <tr>\n",
       "      <th>1</th>\n",
       "      <td>12</td>\n",
       "      <td>B</td>\n",
       "      <td>girl</td>\n",
       "      <td>6</td>\n",
       "      <td>long</td>\n",
       "    </tr>\n",
       "    <tr>\n",
       "      <th>2</th>\n",
       "      <td>13</td>\n",
       "      <td>C</td>\n",
       "      <td>NaN</td>\n",
       "      <td>4</td>\n",
       "      <td>NaN</td>\n",
       "    </tr>\n",
       "    <tr>\n",
       "      <th>3</th>\n",
       "      <td>14</td>\n",
       "      <td>A</td>\n",
       "      <td>guy</td>\n",
       "      <td>3</td>\n",
       "      <td>short</td>\n",
       "    </tr>\n",
       "    <tr>\n",
       "      <th>4</th>\n",
       "      <td>15</td>\n",
       "      <td>B</td>\n",
       "      <td>guy</td>\n",
       "      <td>2</td>\n",
       "      <td>short</td>\n",
       "    </tr>\n",
       "    <tr>\n",
       "      <th>5</th>\n",
       "      <td>16</td>\n",
       "      <td>C</td>\n",
       "      <td>guy</td>\n",
       "      <td>1</td>\n",
       "      <td>short</td>\n",
       "    </tr>\n",
       "  </tbody>\n",
       "</table>\n",
       "</div>"
      ],
      "text/plain": [
       "   age class gender  test_score hair_length\n",
       "0   10     A   girl           7        long\n",
       "1   12     B   girl           6        long\n",
       "2   13     C    NaN           4         NaN\n",
       "3   14     A    guy           3       short\n",
       "4   15     B    guy           2       short\n",
       "5   16     C    guy           1       short"
      ]
     },
     "execution_count": 22,
     "metadata": {},
     "output_type": "execute_result"
    }
   ],
   "source": [
    "df_1.merge(df_2, on='gender', how='left')"
   ]
  },
  {
   "cell_type": "markdown",
   "metadata": {
    "slideshow": {
     "slide_type": "slide"
    }
   },
   "source": [
    "** Right join **"
   ]
  },
  {
   "cell_type": "code",
   "execution_count": 23,
   "metadata": {
    "slideshow": {
     "slide_type": "fragment"
    }
   },
   "outputs": [
    {
     "data": {
      "text/html": [
       "<div>\n",
       "<style>\n",
       "    .dataframe thead tr:only-child th {\n",
       "        text-align: right;\n",
       "    }\n",
       "\n",
       "    .dataframe thead th {\n",
       "        text-align: left;\n",
       "    }\n",
       "\n",
       "    .dataframe tbody tr th {\n",
       "        vertical-align: top;\n",
       "    }\n",
       "</style>\n",
       "<table border=\"1\" class=\"dataframe\">\n",
       "  <thead>\n",
       "    <tr style=\"text-align: right;\">\n",
       "      <th></th>\n",
       "      <th>age</th>\n",
       "      <th>class</th>\n",
       "      <th>gender</th>\n",
       "      <th>test_score</th>\n",
       "      <th>hair_length</th>\n",
       "    </tr>\n",
       "  </thead>\n",
       "  <tbody>\n",
       "    <tr>\n",
       "      <th>0</th>\n",
       "      <td>10</td>\n",
       "      <td>A</td>\n",
       "      <td>girl</td>\n",
       "      <td>7</td>\n",
       "      <td>long</td>\n",
       "    </tr>\n",
       "    <tr>\n",
       "      <th>1</th>\n",
       "      <td>12</td>\n",
       "      <td>B</td>\n",
       "      <td>girl</td>\n",
       "      <td>6</td>\n",
       "      <td>long</td>\n",
       "    </tr>\n",
       "    <tr>\n",
       "      <th>2</th>\n",
       "      <td>14</td>\n",
       "      <td>A</td>\n",
       "      <td>guy</td>\n",
       "      <td>3</td>\n",
       "      <td>short</td>\n",
       "    </tr>\n",
       "    <tr>\n",
       "      <th>3</th>\n",
       "      <td>15</td>\n",
       "      <td>B</td>\n",
       "      <td>guy</td>\n",
       "      <td>2</td>\n",
       "      <td>short</td>\n",
       "    </tr>\n",
       "    <tr>\n",
       "      <th>4</th>\n",
       "      <td>16</td>\n",
       "      <td>C</td>\n",
       "      <td>guy</td>\n",
       "      <td>1</td>\n",
       "      <td>short</td>\n",
       "    </tr>\n",
       "  </tbody>\n",
       "</table>\n",
       "</div>"
      ],
      "text/plain": [
       "   age class gender  test_score hair_length\n",
       "0   10     A   girl           7        long\n",
       "1   12     B   girl           6        long\n",
       "2   14     A    guy           3       short\n",
       "3   15     B    guy           2       short\n",
       "4   16     C    guy           1       short"
      ]
     },
     "execution_count": 23,
     "metadata": {},
     "output_type": "execute_result"
    }
   ],
   "source": [
    "df_1.merge(df_2, on='gender', how='right')"
   ]
  },
  {
   "cell_type": "markdown",
   "metadata": {
    "slideshow": {
     "slide_type": "slide"
    }
   },
   "source": [
    "## df.info() "
   ]
  },
  {
   "cell_type": "markdown",
   "metadata": {
    "slideshow": {
     "slide_type": "fragment"
    }
   },
   "source": [
    "Gives me details about the number of rows, the data types, and is useful to see if there are missing values"
   ]
  },
  {
   "cell_type": "code",
   "execution_count": 35,
   "metadata": {
    "slideshow": {
     "slide_type": "slide"
    }
   },
   "outputs": [
    {
     "data": {
      "text/html": [
       "<div>\n",
       "<style>\n",
       "    .dataframe thead tr:only-child th {\n",
       "        text-align: right;\n",
       "    }\n",
       "\n",
       "    .dataframe thead th {\n",
       "        text-align: left;\n",
       "    }\n",
       "\n",
       "    .dataframe tbody tr th {\n",
       "        vertical-align: top;\n",
       "    }\n",
       "</style>\n",
       "<table border=\"1\" class=\"dataframe\">\n",
       "  <thead>\n",
       "    <tr style=\"text-align: right;\">\n",
       "      <th></th>\n",
       "      <th>year</th>\n",
       "      <th>school</th>\n",
       "      <th>course_type</th>\n",
       "      <th>gender</th>\n",
       "      <th>no_of_students</th>\n",
       "    </tr>\n",
       "    <tr>\n",
       "      <th>course_name</th>\n",
       "      <th></th>\n",
       "      <th></th>\n",
       "      <th></th>\n",
       "      <th></th>\n",
       "      <th></th>\n",
       "    </tr>\n",
       "  </thead>\n",
       "  <tbody>\n",
       "    <tr>\n",
       "      <th>Diploma in Accountancy</th>\n",
       "      <td>2017</td>\n",
       "      <td>School of Business &amp; Accountancy</td>\n",
       "      <td>Full-time</td>\n",
       "      <td>Female</td>\n",
       "      <td>468</td>\n",
       "    </tr>\n",
       "    <tr>\n",
       "      <th>Diploma in Accountancy</th>\n",
       "      <td>2017</td>\n",
       "      <td>School of Business &amp; Accountancy</td>\n",
       "      <td>Full-time</td>\n",
       "      <td>Male</td>\n",
       "      <td>404</td>\n",
       "    </tr>\n",
       "    <tr>\n",
       "      <th>Diploma in Banking &amp; Financial Services</th>\n",
       "      <td>2017</td>\n",
       "      <td>School of Business &amp; Accountancy</td>\n",
       "      <td>Full-time</td>\n",
       "      <td>Female</td>\n",
       "      <td>126</td>\n",
       "    </tr>\n",
       "    <tr>\n",
       "      <th>Diploma in Banking &amp; Financial Services</th>\n",
       "      <td>2017</td>\n",
       "      <td>School of Business &amp; Accountancy</td>\n",
       "      <td>Full-time</td>\n",
       "      <td>Male</td>\n",
       "      <td>180</td>\n",
       "    </tr>\n",
       "    <tr>\n",
       "      <th>Diploma in Business Information Technology</th>\n",
       "      <td>2017</td>\n",
       "      <td>School of Business &amp; Accountancy</td>\n",
       "      <td>Full-time</td>\n",
       "      <td>Female</td>\n",
       "      <td>68</td>\n",
       "    </tr>\n",
       "  </tbody>\n",
       "</table>\n",
       "</div>"
      ],
      "text/plain": [
       "                                            year  \\\n",
       "course_name                                        \n",
       "Diploma in Accountancy                      2017   \n",
       "Diploma in Accountancy                      2017   \n",
       "Diploma in Banking & Financial Services     2017   \n",
       "Diploma in Banking & Financial Services     2017   \n",
       "Diploma in Business Information Technology  2017   \n",
       "\n",
       "                                                                      school  \\\n",
       "course_name                                                                    \n",
       "Diploma in Accountancy                      School of Business & Accountancy   \n",
       "Diploma in Accountancy                      School of Business & Accountancy   \n",
       "Diploma in Banking & Financial Services     School of Business & Accountancy   \n",
       "Diploma in Banking & Financial Services     School of Business & Accountancy   \n",
       "Diploma in Business Information Technology  School of Business & Accountancy   \n",
       "\n",
       "                                           course_type  gender  no_of_students  \n",
       "course_name                                                                     \n",
       "Diploma in Accountancy                       Full-time  Female             468  \n",
       "Diploma in Accountancy                       Full-time    Male             404  \n",
       "Diploma in Banking & Financial Services      Full-time  Female             126  \n",
       "Diploma in Banking & Financial Services      Full-time    Male             180  \n",
       "Diploma in Business Information Technology   Full-time  Female              68  "
      ]
     },
     "execution_count": 35,
     "metadata": {},
     "output_type": "execute_result"
    }
   ],
   "source": [
    "df.head()"
   ]
  },
  {
   "cell_type": "code",
   "execution_count": 25,
   "metadata": {
    "slideshow": {
     "slide_type": "fragment"
    }
   },
   "outputs": [
    {
     "name": "stdout",
     "output_type": "stream",
     "text": [
      "<class 'pandas.core.frame.DataFrame'>\n",
      "RangeIndex: 166 entries, 0 to 165\n",
      "Data columns (total 6 columns):\n",
      "year              166 non-null int64\n",
      "school            166 non-null object\n",
      "course_type       166 non-null object\n",
      "course_name       166 non-null object\n",
      "gender            166 non-null object\n",
      "no_of_students    166 non-null int64\n",
      "dtypes: int64(2), object(4)\n",
      "memory usage: 7.9+ KB\n"
     ]
    }
   ],
   "source": [
    "df.info()"
   ]
  },
  {
   "cell_type": "markdown",
   "metadata": {
    "slideshow": {
     "slide_type": "slide"
    }
   },
   "source": [
    "## df.describe() "
   ]
  },
  {
   "cell_type": "markdown",
   "metadata": {
    "slideshow": {
     "slide_type": "fragment"
    }
   },
   "source": [
    "Gives details about the *numeric* variables"
   ]
  },
  {
   "cell_type": "code",
   "execution_count": 26,
   "metadata": {
    "slideshow": {
     "slide_type": "fragment"
    }
   },
   "outputs": [
    {
     "data": {
      "text/html": [
       "<div>\n",
       "<style>\n",
       "    .dataframe thead tr:only-child th {\n",
       "        text-align: right;\n",
       "    }\n",
       "\n",
       "    .dataframe thead th {\n",
       "        text-align: left;\n",
       "    }\n",
       "\n",
       "    .dataframe tbody tr th {\n",
       "        vertical-align: top;\n",
       "    }\n",
       "</style>\n",
       "<table border=\"1\" class=\"dataframe\">\n",
       "  <thead>\n",
       "    <tr style=\"text-align: right;\">\n",
       "      <th></th>\n",
       "      <th>year</th>\n",
       "      <th>no_of_students</th>\n",
       "    </tr>\n",
       "  </thead>\n",
       "  <tbody>\n",
       "    <tr>\n",
       "      <th>count</th>\n",
       "      <td>166.0</td>\n",
       "      <td>166.000000</td>\n",
       "    </tr>\n",
       "    <tr>\n",
       "      <th>mean</th>\n",
       "      <td>2017.0</td>\n",
       "      <td>100.301205</td>\n",
       "    </tr>\n",
       "    <tr>\n",
       "      <th>std</th>\n",
       "      <td>0.0</td>\n",
       "      <td>148.295139</td>\n",
       "    </tr>\n",
       "    <tr>\n",
       "      <th>min</th>\n",
       "      <td>2017.0</td>\n",
       "      <td>1.000000</td>\n",
       "    </tr>\n",
       "    <tr>\n",
       "      <th>25%</th>\n",
       "      <td>2017.0</td>\n",
       "      <td>16.750000</td>\n",
       "    </tr>\n",
       "    <tr>\n",
       "      <th>50%</th>\n",
       "      <td>2017.0</td>\n",
       "      <td>54.000000</td>\n",
       "    </tr>\n",
       "    <tr>\n",
       "      <th>75%</th>\n",
       "      <td>2017.0</td>\n",
       "      <td>111.500000</td>\n",
       "    </tr>\n",
       "    <tr>\n",
       "      <th>max</th>\n",
       "      <td>2017.0</td>\n",
       "      <td>1236.000000</td>\n",
       "    </tr>\n",
       "  </tbody>\n",
       "</table>\n",
       "</div>"
      ],
      "text/plain": [
       "         year  no_of_students\n",
       "count   166.0      166.000000\n",
       "mean   2017.0      100.301205\n",
       "std       0.0      148.295139\n",
       "min    2017.0        1.000000\n",
       "25%    2017.0       16.750000\n",
       "50%    2017.0       54.000000\n",
       "75%    2017.0      111.500000\n",
       "max    2017.0     1236.000000"
      ]
     },
     "execution_count": 26,
     "metadata": {},
     "output_type": "execute_result"
    }
   ],
   "source": [
    "df.describe()"
   ]
  },
  {
   "cell_type": "markdown",
   "metadata": {
    "slideshow": {
     "slide_type": "slide"
    }
   },
   "source": [
    "## df.set_index() and df.reset_index()"
   ]
  },
  {
   "cell_type": "code",
   "execution_count": 27,
   "metadata": {
    "slideshow": {
     "slide_type": "fragment"
    }
   },
   "outputs": [
    {
     "data": {
      "text/html": [
       "<div>\n",
       "<style>\n",
       "    .dataframe thead tr:only-child th {\n",
       "        text-align: right;\n",
       "    }\n",
       "\n",
       "    .dataframe thead th {\n",
       "        text-align: left;\n",
       "    }\n",
       "\n",
       "    .dataframe tbody tr th {\n",
       "        vertical-align: top;\n",
       "    }\n",
       "</style>\n",
       "<table border=\"1\" class=\"dataframe\">\n",
       "  <thead>\n",
       "    <tr style=\"text-align: right;\">\n",
       "      <th></th>\n",
       "      <th>year</th>\n",
       "      <th>school</th>\n",
       "      <th>course_type</th>\n",
       "      <th>gender</th>\n",
       "      <th>no_of_students</th>\n",
       "    </tr>\n",
       "    <tr>\n",
       "      <th>course_name</th>\n",
       "      <th></th>\n",
       "      <th></th>\n",
       "      <th></th>\n",
       "      <th></th>\n",
       "      <th></th>\n",
       "    </tr>\n",
       "  </thead>\n",
       "  <tbody>\n",
       "    <tr>\n",
       "      <th>Diploma in Accountancy</th>\n",
       "      <td>2017</td>\n",
       "      <td>School of Business &amp; Accountancy</td>\n",
       "      <td>Full-time</td>\n",
       "      <td>Female</td>\n",
       "      <td>468</td>\n",
       "    </tr>\n",
       "    <tr>\n",
       "      <th>Diploma in Accountancy</th>\n",
       "      <td>2017</td>\n",
       "      <td>School of Business &amp; Accountancy</td>\n",
       "      <td>Full-time</td>\n",
       "      <td>Male</td>\n",
       "      <td>404</td>\n",
       "    </tr>\n",
       "    <tr>\n",
       "      <th>Diploma in Banking &amp; Financial Services</th>\n",
       "      <td>2017</td>\n",
       "      <td>School of Business &amp; Accountancy</td>\n",
       "      <td>Full-time</td>\n",
       "      <td>Female</td>\n",
       "      <td>126</td>\n",
       "    </tr>\n",
       "    <tr>\n",
       "      <th>Diploma in Banking &amp; Financial Services</th>\n",
       "      <td>2017</td>\n",
       "      <td>School of Business &amp; Accountancy</td>\n",
       "      <td>Full-time</td>\n",
       "      <td>Male</td>\n",
       "      <td>180</td>\n",
       "    </tr>\n",
       "    <tr>\n",
       "      <th>Diploma in Business Information Technology</th>\n",
       "      <td>2017</td>\n",
       "      <td>School of Business &amp; Accountancy</td>\n",
       "      <td>Full-time</td>\n",
       "      <td>Female</td>\n",
       "      <td>68</td>\n",
       "    </tr>\n",
       "  </tbody>\n",
       "</table>\n",
       "</div>"
      ],
      "text/plain": [
       "                                            year  \\\n",
       "course_name                                        \n",
       "Diploma in Accountancy                      2017   \n",
       "Diploma in Accountancy                      2017   \n",
       "Diploma in Banking & Financial Services     2017   \n",
       "Diploma in Banking & Financial Services     2017   \n",
       "Diploma in Business Information Technology  2017   \n",
       "\n",
       "                                                                      school  \\\n",
       "course_name                                                                    \n",
       "Diploma in Accountancy                      School of Business & Accountancy   \n",
       "Diploma in Accountancy                      School of Business & Accountancy   \n",
       "Diploma in Banking & Financial Services     School of Business & Accountancy   \n",
       "Diploma in Banking & Financial Services     School of Business & Accountancy   \n",
       "Diploma in Business Information Technology  School of Business & Accountancy   \n",
       "\n",
       "                                           course_type  gender  no_of_students  \n",
       "course_name                                                                     \n",
       "Diploma in Accountancy                       Full-time  Female             468  \n",
       "Diploma in Accountancy                       Full-time    Male             404  \n",
       "Diploma in Banking & Financial Services      Full-time  Female             126  \n",
       "Diploma in Banking & Financial Services      Full-time    Male             180  \n",
       "Diploma in Business Information Technology   Full-time  Female              68  "
      ]
     },
     "execution_count": 27,
     "metadata": {},
     "output_type": "execute_result"
    }
   ],
   "source": [
    "#Use the `inplace` parameter to change the dataframe and store it in itself\n",
    "#instead of creating a new DF\n",
    "df.set_index('course_name', inplace=True)\n",
    "df.head()"
   ]
  },
  {
   "cell_type": "code",
   "execution_count": 28,
   "metadata": {
    "slideshow": {
     "slide_type": "fragment"
    }
   },
   "outputs": [
    {
     "data": {
      "text/html": [
       "<div>\n",
       "<style>\n",
       "    .dataframe thead tr:only-child th {\n",
       "        text-align: right;\n",
       "    }\n",
       "\n",
       "    .dataframe thead th {\n",
       "        text-align: left;\n",
       "    }\n",
       "\n",
       "    .dataframe tbody tr th {\n",
       "        vertical-align: top;\n",
       "    }\n",
       "</style>\n",
       "<table border=\"1\" class=\"dataframe\">\n",
       "  <thead>\n",
       "    <tr style=\"text-align: right;\">\n",
       "      <th></th>\n",
       "      <th>course_name</th>\n",
       "      <th>year</th>\n",
       "      <th>school</th>\n",
       "      <th>course_type</th>\n",
       "      <th>gender</th>\n",
       "      <th>no_of_students</th>\n",
       "    </tr>\n",
       "  </thead>\n",
       "  <tbody>\n",
       "    <tr>\n",
       "      <th>0</th>\n",
       "      <td>Diploma in Accountancy</td>\n",
       "      <td>2017</td>\n",
       "      <td>School of Business &amp; Accountancy</td>\n",
       "      <td>Full-time</td>\n",
       "      <td>Female</td>\n",
       "      <td>468</td>\n",
       "    </tr>\n",
       "    <tr>\n",
       "      <th>1</th>\n",
       "      <td>Diploma in Accountancy</td>\n",
       "      <td>2017</td>\n",
       "      <td>School of Business &amp; Accountancy</td>\n",
       "      <td>Full-time</td>\n",
       "      <td>Male</td>\n",
       "      <td>404</td>\n",
       "    </tr>\n",
       "    <tr>\n",
       "      <th>2</th>\n",
       "      <td>Diploma in Banking &amp; Financial Services</td>\n",
       "      <td>2017</td>\n",
       "      <td>School of Business &amp; Accountancy</td>\n",
       "      <td>Full-time</td>\n",
       "      <td>Female</td>\n",
       "      <td>126</td>\n",
       "    </tr>\n",
       "    <tr>\n",
       "      <th>3</th>\n",
       "      <td>Diploma in Banking &amp; Financial Services</td>\n",
       "      <td>2017</td>\n",
       "      <td>School of Business &amp; Accountancy</td>\n",
       "      <td>Full-time</td>\n",
       "      <td>Male</td>\n",
       "      <td>180</td>\n",
       "    </tr>\n",
       "    <tr>\n",
       "      <th>4</th>\n",
       "      <td>Diploma in Business Information Technology</td>\n",
       "      <td>2017</td>\n",
       "      <td>School of Business &amp; Accountancy</td>\n",
       "      <td>Full-time</td>\n",
       "      <td>Female</td>\n",
       "      <td>68</td>\n",
       "    </tr>\n",
       "  </tbody>\n",
       "</table>\n",
       "</div>"
      ],
      "text/plain": [
       "                                  course_name  year  \\\n",
       "0                      Diploma in Accountancy  2017   \n",
       "1                      Diploma in Accountancy  2017   \n",
       "2     Diploma in Banking & Financial Services  2017   \n",
       "3     Diploma in Banking & Financial Services  2017   \n",
       "4  Diploma in Business Information Technology  2017   \n",
       "\n",
       "                             school course_type  gender  no_of_students  \n",
       "0  School of Business & Accountancy   Full-time  Female             468  \n",
       "1  School of Business & Accountancy   Full-time    Male             404  \n",
       "2  School of Business & Accountancy   Full-time  Female             126  \n",
       "3  School of Business & Accountancy   Full-time    Male             180  \n",
       "4  School of Business & Accountancy   Full-time  Female              68  "
      ]
     },
     "execution_count": 28,
     "metadata": {},
     "output_type": "execute_result"
    }
   ],
   "source": [
    "df.reset_index(inplace=True)\n",
    "df.head()"
   ]
  },
  {
   "cell_type": "markdown",
   "metadata": {
    "slideshow": {
     "slide_type": "slide"
    }
   },
   "source": [
    "# Locating rows in Pandas Dataframe"
   ]
  },
  {
   "cell_type": "markdown",
   "metadata": {
    "slideshow": {
     "slide_type": "slide"
    }
   },
   "source": [
    "## df.iloc[]"
   ]
  },
  {
   "cell_type": "markdown",
   "metadata": {
    "slideshow": {
     "slide_type": "fragment"
    }
   },
   "source": [
    "We can select the rows by position if we use df.iloc()\n",
    "For example, df.iloc([2,3,4]) will return the 2nd, 3rd, and 4th rows"
   ]
  },
  {
   "cell_type": "code",
   "execution_count": 29,
   "metadata": {
    "slideshow": {
     "slide_type": "fragment"
    }
   },
   "outputs": [
    {
     "data": {
      "text/html": [
       "<div>\n",
       "<style>\n",
       "    .dataframe thead tr:only-child th {\n",
       "        text-align: right;\n",
       "    }\n",
       "\n",
       "    .dataframe thead th {\n",
       "        text-align: left;\n",
       "    }\n",
       "\n",
       "    .dataframe tbody tr th {\n",
       "        vertical-align: top;\n",
       "    }\n",
       "</style>\n",
       "<table border=\"1\" class=\"dataframe\">\n",
       "  <thead>\n",
       "    <tr style=\"text-align: right;\">\n",
       "      <th></th>\n",
       "      <th>course_name</th>\n",
       "      <th>year</th>\n",
       "      <th>school</th>\n",
       "      <th>course_type</th>\n",
       "      <th>gender</th>\n",
       "      <th>no_of_students</th>\n",
       "    </tr>\n",
       "  </thead>\n",
       "  <tbody>\n",
       "    <tr>\n",
       "      <th>1</th>\n",
       "      <td>Diploma in Accountancy</td>\n",
       "      <td>2017</td>\n",
       "      <td>School of Business &amp; Accountancy</td>\n",
       "      <td>Full-time</td>\n",
       "      <td>Male</td>\n",
       "      <td>404</td>\n",
       "    </tr>\n",
       "    <tr>\n",
       "      <th>2</th>\n",
       "      <td>Diploma in Banking &amp; Financial Services</td>\n",
       "      <td>2017</td>\n",
       "      <td>School of Business &amp; Accountancy</td>\n",
       "      <td>Full-time</td>\n",
       "      <td>Female</td>\n",
       "      <td>126</td>\n",
       "    </tr>\n",
       "    <tr>\n",
       "      <th>3</th>\n",
       "      <td>Diploma in Banking &amp; Financial Services</td>\n",
       "      <td>2017</td>\n",
       "      <td>School of Business &amp; Accountancy</td>\n",
       "      <td>Full-time</td>\n",
       "      <td>Male</td>\n",
       "      <td>180</td>\n",
       "    </tr>\n",
       "  </tbody>\n",
       "</table>\n",
       "</div>"
      ],
      "text/plain": [
       "                               course_name  year  \\\n",
       "1                   Diploma in Accountancy  2017   \n",
       "2  Diploma in Banking & Financial Services  2017   \n",
       "3  Diploma in Banking & Financial Services  2017   \n",
       "\n",
       "                             school course_type  gender  no_of_students  \n",
       "1  School of Business & Accountancy   Full-time    Male             404  \n",
       "2  School of Business & Accountancy   Full-time  Female             126  \n",
       "3  School of Business & Accountancy   Full-time    Male             180  "
      ]
     },
     "execution_count": 29,
     "metadata": {},
     "output_type": "execute_result"
    }
   ],
   "source": [
    "df.iloc[[1,2,3]]"
   ]
  },
  {
   "cell_type": "markdown",
   "metadata": {
    "slideshow": {
     "slide_type": "slide"
    }
   },
   "source": [
    "## df.loc[]"
   ]
  },
  {
   "cell_type": "markdown",
   "metadata": {
    "slideshow": {
     "slide_type": "fragment"
    }
   },
   "source": [
    "We can select the rows by `label` if we use df.loc() For example, df.loc([2,3,4]) will return the rows with index=2,3,4"
   ]
  },
  {
   "cell_type": "code",
   "execution_count": 30,
   "metadata": {
    "collapsed": true,
    "slideshow": {
     "slide_type": "fragment"
    }
   },
   "outputs": [],
   "source": [
    "df.set_index('course_name', inplace=True)"
   ]
  },
  {
   "cell_type": "code",
   "execution_count": 31,
   "metadata": {
    "slideshow": {
     "slide_type": "fragment"
    }
   },
   "outputs": [
    {
     "data": {
      "text/html": [
       "<div>\n",
       "<style>\n",
       "    .dataframe thead tr:only-child th {\n",
       "        text-align: right;\n",
       "    }\n",
       "\n",
       "    .dataframe thead th {\n",
       "        text-align: left;\n",
       "    }\n",
       "\n",
       "    .dataframe tbody tr th {\n",
       "        vertical-align: top;\n",
       "    }\n",
       "</style>\n",
       "<table border=\"1\" class=\"dataframe\">\n",
       "  <thead>\n",
       "    <tr style=\"text-align: right;\">\n",
       "      <th></th>\n",
       "      <th>year</th>\n",
       "      <th>school</th>\n",
       "      <th>course_type</th>\n",
       "      <th>gender</th>\n",
       "      <th>no_of_students</th>\n",
       "    </tr>\n",
       "    <tr>\n",
       "      <th>course_name</th>\n",
       "      <th></th>\n",
       "      <th></th>\n",
       "      <th></th>\n",
       "      <th></th>\n",
       "      <th></th>\n",
       "    </tr>\n",
       "  </thead>\n",
       "  <tbody>\n",
       "    <tr>\n",
       "      <th>Diploma in Accountancy</th>\n",
       "      <td>2017</td>\n",
       "      <td>School of Business &amp; Accountancy</td>\n",
       "      <td>Full-time</td>\n",
       "      <td>Female</td>\n",
       "      <td>468</td>\n",
       "    </tr>\n",
       "    <tr>\n",
       "      <th>Diploma in Accountancy</th>\n",
       "      <td>2017</td>\n",
       "      <td>School of Business &amp; Accountancy</td>\n",
       "      <td>Full-time</td>\n",
       "      <td>Male</td>\n",
       "      <td>404</td>\n",
       "    </tr>\n",
       "    <tr>\n",
       "      <th>Diploma in Banking &amp; Financial Services</th>\n",
       "      <td>2017</td>\n",
       "      <td>School of Business &amp; Accountancy</td>\n",
       "      <td>Full-time</td>\n",
       "      <td>Female</td>\n",
       "      <td>126</td>\n",
       "    </tr>\n",
       "    <tr>\n",
       "      <th>Diploma in Banking &amp; Financial Services</th>\n",
       "      <td>2017</td>\n",
       "      <td>School of Business &amp; Accountancy</td>\n",
       "      <td>Full-time</td>\n",
       "      <td>Male</td>\n",
       "      <td>180</td>\n",
       "    </tr>\n",
       "    <tr>\n",
       "      <th>Diploma in Business Information Technology</th>\n",
       "      <td>2017</td>\n",
       "      <td>School of Business &amp; Accountancy</td>\n",
       "      <td>Full-time</td>\n",
       "      <td>Female</td>\n",
       "      <td>68</td>\n",
       "    </tr>\n",
       "  </tbody>\n",
       "</table>\n",
       "</div>"
      ],
      "text/plain": [
       "                                            year  \\\n",
       "course_name                                        \n",
       "Diploma in Accountancy                      2017   \n",
       "Diploma in Accountancy                      2017   \n",
       "Diploma in Banking & Financial Services     2017   \n",
       "Diploma in Banking & Financial Services     2017   \n",
       "Diploma in Business Information Technology  2017   \n",
       "\n",
       "                                                                      school  \\\n",
       "course_name                                                                    \n",
       "Diploma in Accountancy                      School of Business & Accountancy   \n",
       "Diploma in Accountancy                      School of Business & Accountancy   \n",
       "Diploma in Banking & Financial Services     School of Business & Accountancy   \n",
       "Diploma in Banking & Financial Services     School of Business & Accountancy   \n",
       "Diploma in Business Information Technology  School of Business & Accountancy   \n",
       "\n",
       "                                           course_type  gender  no_of_students  \n",
       "course_name                                                                     \n",
       "Diploma in Accountancy                       Full-time  Female             468  \n",
       "Diploma in Accountancy                       Full-time    Male             404  \n",
       "Diploma in Banking & Financial Services      Full-time  Female             126  \n",
       "Diploma in Banking & Financial Services      Full-time    Male             180  \n",
       "Diploma in Business Information Technology   Full-time  Female              68  "
      ]
     },
     "execution_count": 31,
     "metadata": {},
     "output_type": "execute_result"
    }
   ],
   "source": [
    "df.head()"
   ]
  },
  {
   "cell_type": "code",
   "execution_count": 32,
   "metadata": {
    "slideshow": {
     "slide_type": "fragment"
    }
   },
   "outputs": [
    {
     "data": {
      "text/html": [
       "<div>\n",
       "<style>\n",
       "    .dataframe thead tr:only-child th {\n",
       "        text-align: right;\n",
       "    }\n",
       "\n",
       "    .dataframe thead th {\n",
       "        text-align: left;\n",
       "    }\n",
       "\n",
       "    .dataframe tbody tr th {\n",
       "        vertical-align: top;\n",
       "    }\n",
       "</style>\n",
       "<table border=\"1\" class=\"dataframe\">\n",
       "  <thead>\n",
       "    <tr style=\"text-align: right;\">\n",
       "      <th></th>\n",
       "      <th>year</th>\n",
       "      <th>school</th>\n",
       "      <th>course_type</th>\n",
       "      <th>gender</th>\n",
       "      <th>no_of_students</th>\n",
       "    </tr>\n",
       "    <tr>\n",
       "      <th>course_name</th>\n",
       "      <th></th>\n",
       "      <th></th>\n",
       "      <th></th>\n",
       "      <th></th>\n",
       "      <th></th>\n",
       "    </tr>\n",
       "  </thead>\n",
       "  <tbody>\n",
       "    <tr>\n",
       "      <th>Diploma in Accountancy</th>\n",
       "      <td>2017</td>\n",
       "      <td>School of Business &amp; Accountancy</td>\n",
       "      <td>Full-time</td>\n",
       "      <td>Female</td>\n",
       "      <td>468</td>\n",
       "    </tr>\n",
       "    <tr>\n",
       "      <th>Diploma in Accountancy</th>\n",
       "      <td>2017</td>\n",
       "      <td>School of Business &amp; Accountancy</td>\n",
       "      <td>Full-time</td>\n",
       "      <td>Male</td>\n",
       "      <td>404</td>\n",
       "    </tr>\n",
       "  </tbody>\n",
       "</table>\n",
       "</div>"
      ],
      "text/plain": [
       "                        year                            school course_type  \\\n",
       "course_name                                                                  \n",
       "Diploma in Accountancy  2017  School of Business & Accountancy   Full-time   \n",
       "Diploma in Accountancy  2017  School of Business & Accountancy   Full-time   \n",
       "\n",
       "                        gender  no_of_students  \n",
       "course_name                                     \n",
       "Diploma in Accountancy  Female             468  \n",
       "Diploma in Accountancy    Male             404  "
      ]
     },
     "execution_count": 32,
     "metadata": {},
     "output_type": "execute_result"
    }
   ],
   "source": [
    "#Returns the rows with index = Diploma in Accountancy\n",
    "df.loc['Diploma in Accountancy']"
   ]
  },
  {
   "cell_type": "code",
   "execution_count": 33,
   "metadata": {
    "slideshow": {
     "slide_type": "fragment"
    }
   },
   "outputs": [
    {
     "data": {
      "text/html": [
       "<div>\n",
       "<style>\n",
       "    .dataframe thead tr:only-child th {\n",
       "        text-align: right;\n",
       "    }\n",
       "\n",
       "    .dataframe thead th {\n",
       "        text-align: left;\n",
       "    }\n",
       "\n",
       "    .dataframe tbody tr th {\n",
       "        vertical-align: top;\n",
       "    }\n",
       "</style>\n",
       "<table border=\"1\" class=\"dataframe\">\n",
       "  <thead>\n",
       "    <tr style=\"text-align: right;\">\n",
       "      <th></th>\n",
       "      <th>course_type</th>\n",
       "      <th>gender</th>\n",
       "    </tr>\n",
       "    <tr>\n",
       "      <th>course_name</th>\n",
       "      <th></th>\n",
       "      <th></th>\n",
       "    </tr>\n",
       "  </thead>\n",
       "  <tbody>\n",
       "    <tr>\n",
       "      <th>Diploma in Accountancy</th>\n",
       "      <td>Full-time</td>\n",
       "      <td>Female</td>\n",
       "    </tr>\n",
       "    <tr>\n",
       "      <th>Diploma in Accountancy</th>\n",
       "      <td>Full-time</td>\n",
       "      <td>Male</td>\n",
       "    </tr>\n",
       "  </tbody>\n",
       "</table>\n",
       "</div>"
      ],
      "text/plain": [
       "                       course_type  gender\n",
       "course_name                               \n",
       "Diploma in Accountancy   Full-time  Female\n",
       "Diploma in Accountancy   Full-time    Male"
      ]
     },
     "execution_count": 33,
     "metadata": {},
     "output_type": "execute_result"
    }
   ],
   "source": [
    "#Returns columns course_type, gender of rows with index = Diploma in Accountancy\n",
    "df.loc[['Diploma in Accountancy'], ['course_type', 'gender']]"
   ]
  },
  {
   "cell_type": "code",
   "execution_count": 34,
   "metadata": {
    "slideshow": {
     "slide_type": "fragment"
    }
   },
   "outputs": [
    {
     "data": {
      "text/html": [
       "<div>\n",
       "<style>\n",
       "    .dataframe thead tr:only-child th {\n",
       "        text-align: right;\n",
       "    }\n",
       "\n",
       "    .dataframe thead th {\n",
       "        text-align: left;\n",
       "    }\n",
       "\n",
       "    .dataframe tbody tr th {\n",
       "        vertical-align: top;\n",
       "    }\n",
       "</style>\n",
       "<table border=\"1\" class=\"dataframe\">\n",
       "  <thead>\n",
       "    <tr style=\"text-align: right;\">\n",
       "      <th></th>\n",
       "      <th>year</th>\n",
       "      <th>school</th>\n",
       "      <th>course_type</th>\n",
       "      <th>gender</th>\n",
       "      <th>no_of_students</th>\n",
       "    </tr>\n",
       "    <tr>\n",
       "      <th>course_name</th>\n",
       "      <th></th>\n",
       "      <th></th>\n",
       "      <th></th>\n",
       "      <th></th>\n",
       "      <th></th>\n",
       "    </tr>\n",
       "  </thead>\n",
       "  <tbody>\n",
       "    <tr>\n",
       "      <th>Diploma in Accountancy</th>\n",
       "      <td>2017</td>\n",
       "      <td>School of Business &amp; Accountancy</td>\n",
       "      <td>Full-time</td>\n",
       "      <td>Male</td>\n",
       "      <td>404</td>\n",
       "    </tr>\n",
       "    <tr>\n",
       "      <th>Diploma in Banking &amp; Financial Services</th>\n",
       "      <td>2017</td>\n",
       "      <td>School of Business &amp; Accountancy</td>\n",
       "      <td>Full-time</td>\n",
       "      <td>Male</td>\n",
       "      <td>180</td>\n",
       "    </tr>\n",
       "    <tr>\n",
       "      <th>Diploma in Business Information Technology</th>\n",
       "      <td>2017</td>\n",
       "      <td>School of Business &amp; Accountancy</td>\n",
       "      <td>Full-time</td>\n",
       "      <td>Male</td>\n",
       "      <td>106</td>\n",
       "    </tr>\n",
       "    <tr>\n",
       "      <th>Diploma in Business Studies</th>\n",
       "      <td>2017</td>\n",
       "      <td>School of Business &amp; Accountancy</td>\n",
       "      <td>Full-time</td>\n",
       "      <td>Male</td>\n",
       "      <td>403</td>\n",
       "    </tr>\n",
       "    <tr>\n",
       "      <th>Diploma in International Business</th>\n",
       "      <td>2017</td>\n",
       "      <td>School of Business &amp; Accountancy</td>\n",
       "      <td>Full-time</td>\n",
       "      <td>Male</td>\n",
       "      <td>61</td>\n",
       "    </tr>\n",
       "  </tbody>\n",
       "</table>\n",
       "</div>"
      ],
      "text/plain": [
       "                                            year  \\\n",
       "course_name                                        \n",
       "Diploma in Accountancy                      2017   \n",
       "Diploma in Banking & Financial Services     2017   \n",
       "Diploma in Business Information Technology  2017   \n",
       "Diploma in Business Studies                 2017   \n",
       "Diploma in International Business           2017   \n",
       "\n",
       "                                                                      school  \\\n",
       "course_name                                                                    \n",
       "Diploma in Accountancy                      School of Business & Accountancy   \n",
       "Diploma in Banking & Financial Services     School of Business & Accountancy   \n",
       "Diploma in Business Information Technology  School of Business & Accountancy   \n",
       "Diploma in Business Studies                 School of Business & Accountancy   \n",
       "Diploma in International Business           School of Business & Accountancy   \n",
       "\n",
       "                                           course_type gender  no_of_students  \n",
       "course_name                                                                    \n",
       "Diploma in Accountancy                       Full-time   Male             404  \n",
       "Diploma in Banking & Financial Services      Full-time   Male             180  \n",
       "Diploma in Business Information Technology   Full-time   Male             106  \n",
       "Diploma in Business Studies                  Full-time   Male             403  \n",
       "Diploma in International Business            Full-time   Male              61  "
      ]
     },
     "execution_count": 34,
     "metadata": {},
     "output_type": "execute_result"
    }
   ],
   "source": [
    "#returns all rows with gender = male\n",
    "df.loc[df['gender']=='Male'].head()"
   ]
  },
  {
   "cell_type": "markdown",
   "metadata": {
    "slideshow": {
     "slide_type": "slide"
    }
   },
   "source": [
    "# Saving a Dataframe"
   ]
  },
  {
   "cell_type": "markdown",
   "metadata": {
    "slideshow": {
     "slide_type": "slide"
    }
   },
   "source": [
    "## Saving to a csv file"
   ]
  },
  {
   "cell_type": "code",
   "execution_count": 37,
   "metadata": {
    "collapsed": true,
    "slideshow": {
     "slide_type": "fragment"
    }
   },
   "outputs": [],
   "source": [
    "df.to_csv('updated_csv.csv', encoding='utf-8')"
   ]
  },
  {
   "cell_type": "markdown",
   "metadata": {
    "slideshow": {
     "slide_type": "slide"
    }
   },
   "source": [
    "## Saving to an Excel Workbook"
   ]
  },
  {
   "cell_type": "code",
   "execution_count": 39,
   "metadata": {
    "collapsed": true,
    "slideshow": {
     "slide_type": "fragment"
    }
   },
   "outputs": [],
   "source": [
    "from pandas import ExcelWriter\n",
    "writer = ExcelWriter('updated_xlsx.xlsx')\n",
    "df.to_excel(writer, 'Sheet1')\n",
    "df_1.to_excel(writer, 'Sheet2')\n",
    "writer.save()"
   ]
  },
  {
   "cell_type": "markdown",
   "metadata": {
    "slideshow": {
     "slide_type": "slide"
    }
   },
   "source": [
    "## Saving to a Python dictionary"
   ]
  },
  {
   "cell_type": "code",
   "execution_count": 42,
   "metadata": {
    "slideshow": {
     "slide_type": "fragment"
    }
   },
   "outputs": [
    {
     "data": {
      "text/plain": [
       "{'course_type': {'Accounting & Finance': 'Part-time diploma',\n",
       "  'Advanced Diploma in Accountancy': 'Part-time advanced diploma',\n",
       "  'Advanced Diploma in Early Childhood Intervention (Special Needs)': 'Part-time advanced diploma',\n",
       "  'Advanced Diploma in Early Childhood Leadership': 'Part-time advanced diploma',\n",
       "  'Advanced Diploma in Enterprise Business Analytics': 'Part-time advanced diploma',\n",
       "  'Advanced Diploma in Medical and Pharmaceutical Technology': 'Part-time advanced diploma',\n",
       "  'Advanced Diploma in Perioperative Nursing': 'Part-time advanced diploma',\n",
       "  'Constructing a Meaningful Educational Setting': 'Part-time skills-based module',\n",
       "  'Data Design & Analytics': 'Part-time skills-based module',\n",
       "  'Diploma (Conversion) in Digital Media Design': 'Part-time diploma conversion',\n",
       "  'Diploma (Conversion) in Facility Management': 'Part-time diploma conversion',\n",
       "  'Diploma (Conversion) in Marine & Offshore Technology': 'Part-time diploma conversion',\n",
       "  'Diploma in Accountancy': 'Full-time',\n",
       "  'Diploma in Advertising & Public Relations': 'Full-time',\n",
       "  'Diploma in Aerospace Electronics': 'Full-time',\n",
       "  'Diploma in Aerospace Technology': 'Full-time',\n",
       "  'Diploma in Animation & 3D Arts': 'Full-time',\n",
       "  'Diploma in Arts Business Management': 'Full-time',\n",
       "  'Diploma in Audio-visual Technology': 'Full-time',\n",
       "  'Diploma in Automation & Mechatronic Systems': 'Full-time',\n",
       "  'Diploma in Banking & Financial Services': 'Full-time',\n",
       "  'Diploma in Biomedical Engineering': 'Full-time',\n",
       "  'Diploma in Biomedical Science': 'Full-time',\n",
       "  'Diploma in Business & Social Enterprise': 'Full-time',\n",
       "  'Diploma in Business Information Technology': 'Full-time',\n",
       "  'Diploma in Business Practice (Administration & Management)': 'Part-time diploma',\n",
       "  'Diploma in Business Practice (International Supply Chain Management)': 'Part-time diploma',\n",
       "  'Diploma in Business Practice (Tourism Management)': 'Part-time diploma',\n",
       "  'Diploma in Business Studies': 'Full-time',\n",
       "  'Diploma in Chemical & Biomolecular Engineering': 'Full-time',\n",
       "  'Diploma in Child Psychology & Early Education': 'Full-time',\n",
       "  'Diploma in Chinese Media & Communication': 'Full-time',\n",
       "  'Diploma in Chinese Studies': 'Full-time',\n",
       "  'Diploma in Clean Energy Management': 'Full-time',\n",
       "  'Diploma in Early Childhood Care & Education - Teaching': 'Part-time diploma',\n",
       "  'Diploma in Early Childhood Education': 'Full-time',\n",
       "  'Diploma in Electrical Engineering': 'Full-time',\n",
       "  'Diploma in Electronic & Computer Engineering': 'Full-time',\n",
       "  'Diploma in Engineering (Aerospace)': 'Part-time diploma',\n",
       "  'Diploma in Engineering (Building Services & Fire Safety)': 'Part-time diploma',\n",
       "  'Diploma in Engineering (Electrical)': 'Part-time diploma',\n",
       "  'Diploma in Engineering (Electronics)': 'Part-time diploma',\n",
       "  'Diploma in Engineering (Marine)': 'Part-time diploma',\n",
       "  'Diploma in Engineering (Mechanical)': 'Part-time diploma',\n",
       "  'Diploma in Engineering (Mechatronics)': 'Part-time diploma',\n",
       "  'Diploma in Engineering Science': 'Full-time',\n",
       "  'Diploma in Engineering with Business Management Programme': 'Full-time',\n",
       "  'Diploma in Environmental & Water Technology': 'Full-time',\n",
       "  'Diploma in Film, Sound & Video': 'Full-time',\n",
       "  'Diploma in Financial Informatics': 'Full-time',\n",
       "  'Diploma in Health Sciences (Nursing)': 'Full-time',\n",
       "  'Diploma in Hotel & Leisure Facilities Management': 'Full-time',\n",
       "  'Diploma in Information Security & Forensics': 'Full-time',\n",
       "  'Diploma in Information Technology': 'Full-time',\n",
       "  'Diploma in International Business': 'Full-time',\n",
       "  'Diploma in International Logistics & Supply Chain Management': 'Full-time',\n",
       "  'Diploma in Landscape Design & Horticulture': 'Full-time',\n",
       "  'Diploma in Marine & Offshore Technology': 'Full-time',\n",
       "  'Diploma in Mass Communication': 'Full-time',\n",
       "  'Diploma in Mechanical Engineering': 'Full-time',\n",
       "  'Diploma in Molecular Biotechnology': 'Full-time',\n",
       "  'Diploma in Multimedia & Animation': 'Full-time',\n",
       "  'Diploma in Network Systems & Security': 'Full-time',\n",
       "  'Diploma in Optometry': 'Full-time',\n",
       "  'Diploma in Pharmacy Science': 'Full-time',\n",
       "  'Diploma in Product Design & Innovation': 'Full-time',\n",
       "  'Diploma in Psychology Studies': 'Full-time',\n",
       "  'Diploma in Real Estate Business': 'Full-time',\n",
       "  'Diploma in Sustainable Urban Design & Engineering': 'Full-time',\n",
       "  'Diploma in Tamil Studies with Early Education': 'Full-time',\n",
       "  'Diploma in Tourism & Resort Management': 'Full-time',\n",
       "  'Diploma in Veterinary Bioscience': 'Full-time',\n",
       "  'Diploma in Visual Effects': 'Full-time',\n",
       "  'Downstream processing': 'Part-time skills-based module',\n",
       "  'Fundamental of Offshore Oil & Gas Technology': 'Part-time skills-based module',\n",
       "  'Industrial Drive Systems': 'Part-time skills-based module',\n",
       "  'Power Hydraulics': 'Part-time skills-based module',\n",
       "  'Principles of Marketing': 'Part-time diploma',\n",
       "  'Professional Roles in Educational Support': 'Part-time skills-based module',\n",
       "  'Specialist Diploma in Analytical Science': 'Part-time specialist diploma',\n",
       "  'Specialist Diploma in Consumer & Performance Analytics': 'Part-time specialist diploma',\n",
       "  'Specialist Diploma in Consumer Banking': 'Part-time specialist diploma',\n",
       "  'Specialist Diploma in Digital Branding & Social Media Strategies': 'Part-time specialist diploma',\n",
       "  'Specialist Diploma in Early Childhood Learning Support': 'Part-time specialist diploma',\n",
       "  'Specialist Diploma in Electrical Design & Operation': 'Part-time specialist diploma',\n",
       "  'Specialist Diploma in IT Network Systems': 'Part-time specialist diploma',\n",
       "  'Specialist Diploma in Palliative Care Nursing': 'Part-time specialist diploma',\n",
       "  'Specialist Diploma in Sustainable Facilities Management': 'Part-time specialist diploma',\n",
       "  'Specialist Diploma in Veterinary Clinical Practice': 'Part-time specialist diploma',\n",
       "  'Upstream processing': 'Part-time skills-based module'},\n",
       " 'gender': {'Accounting & Finance': 'Male',\n",
       "  'Advanced Diploma in Accountancy': 'Female',\n",
       "  'Advanced Diploma in Early Childhood Intervention (Special Needs)': 'Female',\n",
       "  'Advanced Diploma in Early Childhood Leadership': 'Female',\n",
       "  'Advanced Diploma in Enterprise Business Analytics': 'Female',\n",
       "  'Advanced Diploma in Medical and Pharmaceutical Technology': 'Female',\n",
       "  'Advanced Diploma in Perioperative Nursing': 'Female',\n",
       "  'Constructing a Meaningful Educational Setting': 'Female',\n",
       "  'Data Design & Analytics': 'Female',\n",
       "  'Diploma (Conversion) in Digital Media Design': 'Female',\n",
       "  'Diploma (Conversion) in Facility Management': 'Female',\n",
       "  'Diploma (Conversion) in Marine & Offshore Technology': 'Male',\n",
       "  'Diploma in Accountancy': 'Male',\n",
       "  'Diploma in Advertising & Public Relations': 'Male',\n",
       "  'Diploma in Aerospace Electronics': 'Male',\n",
       "  'Diploma in Aerospace Technology': 'Male',\n",
       "  'Diploma in Animation & 3D Arts': 'Male',\n",
       "  'Diploma in Arts Business Management': 'Male',\n",
       "  'Diploma in Audio-visual Technology': 'Male',\n",
       "  'Diploma in Automation & Mechatronic Systems': 'Male',\n",
       "  'Diploma in Banking & Financial Services': 'Male',\n",
       "  'Diploma in Biomedical Engineering': 'Male',\n",
       "  'Diploma in Biomedical Science': 'Male',\n",
       "  'Diploma in Business & Social Enterprise': 'Male',\n",
       "  'Diploma in Business Information Technology': 'Male',\n",
       "  'Diploma in Business Practice (Administration & Management)': 'Female',\n",
       "  'Diploma in Business Practice (International Supply Chain Management)': 'Female',\n",
       "  'Diploma in Business Practice (Tourism Management)': 'Female',\n",
       "  'Diploma in Business Studies': 'Male',\n",
       "  'Diploma in Chemical & Biomolecular Engineering': 'Male',\n",
       "  'Diploma in Child Psychology & Early Education': 'Male',\n",
       "  'Diploma in Chinese Media & Communication': 'Male',\n",
       "  'Diploma in Chinese Studies': 'Male',\n",
       "  'Diploma in Clean Energy Management': 'Male',\n",
       "  'Diploma in Early Childhood Care & Education - Teaching': 'Female',\n",
       "  'Diploma in Early Childhood Education': 'Male',\n",
       "  'Diploma in Electrical Engineering': 'Male',\n",
       "  'Diploma in Electronic & Computer Engineering': 'Male',\n",
       "  'Diploma in Engineering (Aerospace)': 'Female',\n",
       "  'Diploma in Engineering (Building Services & Fire Safety)': 'Female',\n",
       "  'Diploma in Engineering (Electrical)': 'Female',\n",
       "  'Diploma in Engineering (Electronics)': 'Female',\n",
       "  'Diploma in Engineering (Marine)': 'Female',\n",
       "  'Diploma in Engineering (Mechanical)': 'Female',\n",
       "  'Diploma in Engineering (Mechatronics)': 'Female',\n",
       "  'Diploma in Engineering Science': 'Male',\n",
       "  'Diploma in Engineering with Business Management Programme': 'Male',\n",
       "  'Diploma in Environmental & Water Technology': 'Male',\n",
       "  'Diploma in Film, Sound & Video': 'Male',\n",
       "  'Diploma in Financial Informatics': 'Male',\n",
       "  'Diploma in Health Sciences (Nursing)': 'Male',\n",
       "  'Diploma in Hotel & Leisure Facilities Management': 'Male',\n",
       "  'Diploma in Information Security & Forensics': 'Male',\n",
       "  'Diploma in Information Technology': 'Male',\n",
       "  'Diploma in International Business': 'Male',\n",
       "  'Diploma in International Logistics & Supply Chain Management': 'Male',\n",
       "  'Diploma in Landscape Design & Horticulture': 'Male',\n",
       "  'Diploma in Marine & Offshore Technology': 'Male',\n",
       "  'Diploma in Mass Communication': 'Male',\n",
       "  'Diploma in Mechanical Engineering': 'Male',\n",
       "  'Diploma in Molecular Biotechnology': 'Male',\n",
       "  'Diploma in Multimedia & Animation': 'Male',\n",
       "  'Diploma in Network Systems & Security': 'Male',\n",
       "  'Diploma in Optometry': 'Male',\n",
       "  'Diploma in Pharmacy Science': 'Male',\n",
       "  'Diploma in Product Design & Innovation': 'Male',\n",
       "  'Diploma in Psychology Studies': 'Male',\n",
       "  'Diploma in Real Estate Business': 'Male',\n",
       "  'Diploma in Sustainable Urban Design & Engineering': 'Male',\n",
       "  'Diploma in Tamil Studies with Early Education': 'Male',\n",
       "  'Diploma in Tourism & Resort Management': 'Male',\n",
       "  'Diploma in Veterinary Bioscience': 'Male',\n",
       "  'Diploma in Visual Effects': 'Male',\n",
       "  'Downstream processing': 'Male',\n",
       "  'Fundamental of Offshore Oil & Gas Technology': 'Male',\n",
       "  'Industrial Drive Systems': 'Male',\n",
       "  'Power Hydraulics': 'Male',\n",
       "  'Principles of Marketing': 'Female',\n",
       "  'Professional Roles in Educational Support': 'Female',\n",
       "  'Specialist Diploma in Analytical Science': 'Female',\n",
       "  'Specialist Diploma in Consumer & Performance Analytics': 'Female',\n",
       "  'Specialist Diploma in Consumer Banking': 'Male',\n",
       "  'Specialist Diploma in Digital Branding & Social Media Strategies': 'Female',\n",
       "  'Specialist Diploma in Early Childhood Learning Support': 'Female',\n",
       "  'Specialist Diploma in Electrical Design & Operation': 'Female',\n",
       "  'Specialist Diploma in IT Network Systems': 'Male',\n",
       "  'Specialist Diploma in Palliative Care Nursing': 'Female',\n",
       "  'Specialist Diploma in Sustainable Facilities Management': 'Female',\n",
       "  'Specialist Diploma in Veterinary Clinical Practice': 'Female',\n",
       "  'Upstream processing': 'Female'},\n",
       " 'no_of_students': {'Accounting & Finance': 1,\n",
       "  'Advanced Diploma in Accountancy': 51,\n",
       "  'Advanced Diploma in Early Childhood Intervention (Special Needs)': 100,\n",
       "  'Advanced Diploma in Early Childhood Leadership': 85,\n",
       "  'Advanced Diploma in Enterprise Business Analytics': 43,\n",
       "  'Advanced Diploma in Medical and Pharmaceutical Technology': 21,\n",
       "  'Advanced Diploma in Perioperative Nursing': 12,\n",
       "  'Constructing a Meaningful Educational Setting': 12,\n",
       "  'Data Design & Analytics': 1,\n",
       "  'Diploma (Conversion) in Digital Media Design': 14,\n",
       "  'Diploma (Conversion) in Facility Management': 5,\n",
       "  'Diploma (Conversion) in Marine & Offshore Technology': 12,\n",
       "  'Diploma in Accountancy': 404,\n",
       "  'Diploma in Advertising & Public Relations': 26,\n",
       "  'Diploma in Aerospace Electronics': 224,\n",
       "  'Diploma in Aerospace Technology': 386,\n",
       "  'Diploma in Animation & 3D Arts': 30,\n",
       "  'Diploma in Arts Business Management': 16,\n",
       "  'Diploma in Audio-visual Technology': 80,\n",
       "  'Diploma in Automation & Mechatronic Systems': 295,\n",
       "  'Diploma in Banking & Financial Services': 180,\n",
       "  'Diploma in Biomedical Engineering': 146,\n",
       "  'Diploma in Biomedical Science': 112,\n",
       "  'Diploma in Business & Social Enterprise': 41,\n",
       "  'Diploma in Business Information Technology': 106,\n",
       "  'Diploma in Business Practice (Administration & Management)': 206,\n",
       "  'Diploma in Business Practice (International Supply Chain Management)': 36,\n",
       "  'Diploma in Business Practice (Tourism Management)': 4,\n",
       "  'Diploma in Business Studies': 403,\n",
       "  'Diploma in Chemical & Biomolecular Engineering': 218,\n",
       "  'Diploma in Child Psychology & Early Education': 54,\n",
       "  'Diploma in Chinese Media & Communication': 23,\n",
       "  'Diploma in Chinese Studies': 21,\n",
       "  'Diploma in Clean Energy Management': 82,\n",
       "  'Diploma in Early Childhood Care & Education - Teaching': 155,\n",
       "  'Diploma in Early Childhood Education': 36,\n",
       "  'Diploma in Electrical Engineering': 481,\n",
       "  'Diploma in Electronic & Computer Engineering': 539,\n",
       "  'Diploma in Engineering (Aerospace)': 5,\n",
       "  'Diploma in Engineering (Building Services & Fire Safety)': 11,\n",
       "  'Diploma in Engineering (Electrical)': 11,\n",
       "  'Diploma in Engineering (Electronics)': 49,\n",
       "  'Diploma in Engineering (Marine)': 11,\n",
       "  'Diploma in Engineering (Mechanical)': 4,\n",
       "  'Diploma in Engineering (Mechatronics)': 4,\n",
       "  'Diploma in Engineering Science': 154,\n",
       "  'Diploma in Engineering with Business Management Programme': 106,\n",
       "  'Diploma in Environmental & Water Technology': 67,\n",
       "  'Diploma in Film, Sound & Video': 104,\n",
       "  'Diploma in Financial Informatics': 165,\n",
       "  'Diploma in Health Sciences (Nursing)': 279,\n",
       "  'Diploma in Hotel & Leisure Facilities Management': 93,\n",
       "  'Diploma in Information Security & Forensics': 110,\n",
       "  'Diploma in Information Technology': 317,\n",
       "  'Diploma in International Business': 61,\n",
       "  'Diploma in International Logistics & Supply Chain Management': 158,\n",
       "  'Diploma in Landscape Design & Horticulture': 45,\n",
       "  'Diploma in Marine & Offshore Technology': 301,\n",
       "  'Diploma in Mass Communication': 113,\n",
       "  'Diploma in Mechanical Engineering': 546,\n",
       "  'Diploma in Molecular Biotechnology': 46,\n",
       "  'Diploma in Multimedia & Animation': 77,\n",
       "  'Diploma in Network Systems & Security': 117,\n",
       "  'Diploma in Optometry': 38,\n",
       "  'Diploma in Pharmacy Science': 38,\n",
       "  'Diploma in Product Design & Innovation': 75,\n",
       "  'Diploma in Psychology Studies': 50,\n",
       "  'Diploma in Real Estate Business': 118,\n",
       "  'Diploma in Sustainable Urban Design & Engineering': 87,\n",
       "  'Diploma in Tamil Studies with Early Education': 2,\n",
       "  'Diploma in Tourism & Resort Management': 56,\n",
       "  'Diploma in Veterinary Bioscience': 23,\n",
       "  'Diploma in Visual Effects': 46,\n",
       "  'Downstream processing': 3,\n",
       "  'Fundamental of Offshore Oil & Gas Technology': 3,\n",
       "  'Industrial Drive Systems': 4,\n",
       "  'Power Hydraulics': 4,\n",
       "  'Principles of Marketing': 1,\n",
       "  'Professional Roles in Educational Support': 5,\n",
       "  'Specialist Diploma in Analytical Science': 14,\n",
       "  'Specialist Diploma in Consumer & Performance Analytics': 15,\n",
       "  'Specialist Diploma in Consumer Banking': 3,\n",
       "  'Specialist Diploma in Digital Branding & Social Media Strategies': 15,\n",
       "  'Specialist Diploma in Early Childhood Learning Support': 24,\n",
       "  'Specialist Diploma in Electrical Design & Operation': 5,\n",
       "  'Specialist Diploma in IT Network Systems': 4,\n",
       "  'Specialist Diploma in Palliative Care Nursing': 33,\n",
       "  'Specialist Diploma in Sustainable Facilities Management': 23,\n",
       "  'Specialist Diploma in Veterinary Clinical Practice': 24,\n",
       "  'Upstream processing': 1},\n",
       " 'school': {'Accounting & Finance': 'School of Business & Accountancy',\n",
       "  'Advanced Diploma in Accountancy': 'School of Business & Accountancy',\n",
       "  'Advanced Diploma in Early Childhood Intervention (Special Needs)': 'School of Humanities & Social Sciences',\n",
       "  'Advanced Diploma in Early Childhood Leadership': 'School of Humanities & Social Sciences',\n",
       "  'Advanced Diploma in Enterprise Business Analytics': 'School of InfoComm Technology',\n",
       "  'Advanced Diploma in Medical and Pharmaceutical Technology': 'School of Life Sciences & Chemical Technology',\n",
       "  'Advanced Diploma in Perioperative Nursing': 'School of Health Sciences',\n",
       "  'Constructing a Meaningful Educational Setting': 'School of Humanities & Social Sciences',\n",
       "  'Data Design & Analytics': 'School of Business & Accountancy',\n",
       "  'Diploma (Conversion) in Digital Media Design': 'School of Film & Media Studies',\n",
       "  'Diploma (Conversion) in Facility Management': 'School of Design & Environment',\n",
       "  'Diploma (Conversion) in Marine & Offshore Technology': 'School of Engineering (Mechanical Engineering Division)',\n",
       "  'Diploma in Accountancy': 'School of Business & Accountancy',\n",
       "  'Diploma in Advertising & Public Relations': 'School of Film & Media Studies',\n",
       "  'Diploma in Aerospace Electronics': 'School of Engineering',\n",
       "  'Diploma in Aerospace Technology': 'School of Engineering',\n",
       "  'Diploma in Animation & 3D Arts': 'School of InfoComm Technology',\n",
       "  'Diploma in Arts Business Management': 'School of Humanities & Social Sciences',\n",
       "  'Diploma in Audio-visual Technology': 'School of Engineering',\n",
       "  'Diploma in Automation & Mechatronic Systems': 'School of Engineering',\n",
       "  'Diploma in Banking & Financial Services': 'School of Business & Accountancy',\n",
       "  'Diploma in Biomedical Engineering': 'School of Engineering',\n",
       "  'Diploma in Biomedical Science': 'School of Life Sciences & Chemical Technology',\n",
       "  'Diploma in Business & Social Enterprise': 'School of Humanities & Social Sciences',\n",
       "  'Diploma in Business Information Technology': 'School of Business & Accountancy',\n",
       "  'Diploma in Business Practice (Administration & Management)': 'School of Business & Accountancy',\n",
       "  'Diploma in Business Practice (International Supply Chain Management)': 'School of Business & Accountancy',\n",
       "  'Diploma in Business Practice (Tourism Management)': 'School of Business & Accountancy',\n",
       "  'Diploma in Business Studies': 'School of Business & Accountancy',\n",
       "  'Diploma in Chemical & Biomolecular Engineering': 'School of Life Sciences & Chemical Technology',\n",
       "  'Diploma in Child Psychology & Early Education': 'School of Humanities & Social Sciences',\n",
       "  'Diploma in Chinese Media & Communication': 'School of Humanities & Social Sciences',\n",
       "  'Diploma in Chinese Studies': 'School of Humanities & Social Sciences',\n",
       "  'Diploma in Clean Energy Management': 'School of Engineering',\n",
       "  'Diploma in Early Childhood Care & Education - Teaching': 'School of Humanities & Social Sciences',\n",
       "  'Diploma in Early Childhood Education': 'School of Humanities & Social Sciences',\n",
       "  'Diploma in Electrical Engineering': 'School of Engineering',\n",
       "  'Diploma in Electronic & Computer Engineering': 'School of Engineering',\n",
       "  'Diploma in Engineering (Aerospace)': 'School of Engineering (Mechanical Engineering Division)',\n",
       "  'Diploma in Engineering (Building Services & Fire Safety)': 'School of Design & Environment',\n",
       "  'Diploma in Engineering (Electrical)': 'School of Engineering (Electrical Engineering Division)',\n",
       "  'Diploma in Engineering (Electronics)': 'School of Engineering (Electronic & Computer Engineering Division)',\n",
       "  'Diploma in Engineering (Marine)': 'School of Engineering (Mechanical Engineering Division)',\n",
       "  'Diploma in Engineering (Mechanical)': 'School of Engineering (Mechanical Engineering Division)',\n",
       "  'Diploma in Engineering (Mechatronics)': 'School of Engineering (Mechanical Engineering Division)',\n",
       "  'Diploma in Engineering Science': 'School of Engineering',\n",
       "  'Diploma in Engineering with Business Management Programme': 'School of Engineering',\n",
       "  'Diploma in Environmental & Water Technology': 'School of Life Sciences & Chemical Technology',\n",
       "  'Diploma in Film, Sound & Video': 'School of Film & Media Studies',\n",
       "  'Diploma in Financial Informatics': 'School of InfoComm Technology',\n",
       "  'Diploma in Health Sciences (Nursing)': 'School of Health Sciences',\n",
       "  'Diploma in Hotel & Leisure Facilities Management': 'School of Design & Environment',\n",
       "  'Diploma in Information Security & Forensics': 'School of InfoComm Technology',\n",
       "  'Diploma in Information Technology': 'School of InfoComm Technology',\n",
       "  'Diploma in International Business': 'School of Business & Accountancy',\n",
       "  'Diploma in International Logistics & Supply Chain Management': 'School of Business & Accountancy',\n",
       "  'Diploma in Landscape Design & Horticulture': 'School of Life Sciences & Chemical Technology',\n",
       "  'Diploma in Marine & Offshore Technology': 'School of Engineering',\n",
       "  'Diploma in Mass Communication': 'School of Film & Media Studies',\n",
       "  'Diploma in Mechanical Engineering': 'School of Engineering',\n",
       "  'Diploma in Molecular Biotechnology': 'School of Life Sciences & Chemical Technology',\n",
       "  'Diploma in Multimedia & Animation': 'School of InfoComm Technology',\n",
       "  'Diploma in Network Systems & Security': 'School of Engineering',\n",
       "  'Diploma in Optometry': 'School of Health Sciences',\n",
       "  'Diploma in Pharmacy Science': 'School of Life Sciences & Chemical Technology',\n",
       "  'Diploma in Product Design & Innovation': 'School of Design & Environment',\n",
       "  'Diploma in Psychology Studies': 'School of Humanities & Social Sciences',\n",
       "  'Diploma in Real Estate Business': 'School of Design & Environment',\n",
       "  'Diploma in Sustainable Urban Design & Engineering': 'School of Design & Environment',\n",
       "  'Diploma in Tamil Studies with Early Education': 'School of Humanities & Social Sciences',\n",
       "  'Diploma in Tourism & Resort Management': 'School of Business & Accountancy',\n",
       "  'Diploma in Veterinary Bioscience': 'School of Life Sciences & Chemical Technology',\n",
       "  'Diploma in Visual Effects': 'School of Film & Media Studies',\n",
       "  'Downstream processing': 'School of Life Sciences & Chemical Technology',\n",
       "  'Fundamental of Offshore Oil & Gas Technology': 'School of Engineering (Mechanical Engineering Division)',\n",
       "  'Industrial Drive Systems': 'School of Engineering (Mechanical Engineering Division)',\n",
       "  'Power Hydraulics': 'School of Engineering (Mechanical Engineering Division)',\n",
       "  'Principles of Marketing': 'School of Business & Accountancy',\n",
       "  'Professional Roles in Educational Support': 'School of Humanities & Social Sciences',\n",
       "  'Specialist Diploma in Analytical Science': 'School of Life Sciences & Chemical Technology',\n",
       "  'Specialist Diploma in Consumer & Performance Analytics': 'School of Business & Accountancy',\n",
       "  'Specialist Diploma in Consumer Banking': 'School of Business & Accountancy',\n",
       "  'Specialist Diploma in Digital Branding & Social Media Strategies': 'School of Film & Media Studies',\n",
       "  'Specialist Diploma in Early Childhood Learning Support': 'School of Humanities & Social Sciences',\n",
       "  'Specialist Diploma in Electrical Design & Operation': 'School of Engineering (Electrical Engineering Division)',\n",
       "  'Specialist Diploma in IT Network Systems': 'School of Engineering (Electronic & Computer Engineering Division)',\n",
       "  'Specialist Diploma in Palliative Care Nursing': 'School of Health Sciences',\n",
       "  'Specialist Diploma in Sustainable Facilities Management': 'School of Design & Environment',\n",
       "  'Specialist Diploma in Veterinary Clinical Practice': 'School of Life Sciences & Chemical Technology',\n",
       "  'Upstream processing': 'School of Life Sciences & Chemical Technology'},\n",
       " 'year': {'Accounting & Finance': 2017,\n",
       "  'Advanced Diploma in Accountancy': 2017,\n",
       "  'Advanced Diploma in Early Childhood Intervention (Special Needs)': 2017,\n",
       "  'Advanced Diploma in Early Childhood Leadership': 2017,\n",
       "  'Advanced Diploma in Enterprise Business Analytics': 2017,\n",
       "  'Advanced Diploma in Medical and Pharmaceutical Technology': 2017,\n",
       "  'Advanced Diploma in Perioperative Nursing': 2017,\n",
       "  'Constructing a Meaningful Educational Setting': 2017,\n",
       "  'Data Design & Analytics': 2017,\n",
       "  'Diploma (Conversion) in Digital Media Design': 2017,\n",
       "  'Diploma (Conversion) in Facility Management': 2017,\n",
       "  'Diploma (Conversion) in Marine & Offshore Technology': 2017,\n",
       "  'Diploma in Accountancy': 2017,\n",
       "  'Diploma in Advertising & Public Relations': 2017,\n",
       "  'Diploma in Aerospace Electronics': 2017,\n",
       "  'Diploma in Aerospace Technology': 2017,\n",
       "  'Diploma in Animation & 3D Arts': 2017,\n",
       "  'Diploma in Arts Business Management': 2017,\n",
       "  'Diploma in Audio-visual Technology': 2017,\n",
       "  'Diploma in Automation & Mechatronic Systems': 2017,\n",
       "  'Diploma in Banking & Financial Services': 2017,\n",
       "  'Diploma in Biomedical Engineering': 2017,\n",
       "  'Diploma in Biomedical Science': 2017,\n",
       "  'Diploma in Business & Social Enterprise': 2017,\n",
       "  'Diploma in Business Information Technology': 2017,\n",
       "  'Diploma in Business Practice (Administration & Management)': 2017,\n",
       "  'Diploma in Business Practice (International Supply Chain Management)': 2017,\n",
       "  'Diploma in Business Practice (Tourism Management)': 2017,\n",
       "  'Diploma in Business Studies': 2017,\n",
       "  'Diploma in Chemical & Biomolecular Engineering': 2017,\n",
       "  'Diploma in Child Psychology & Early Education': 2017,\n",
       "  'Diploma in Chinese Media & Communication': 2017,\n",
       "  'Diploma in Chinese Studies': 2017,\n",
       "  'Diploma in Clean Energy Management': 2017,\n",
       "  'Diploma in Early Childhood Care & Education - Teaching': 2017,\n",
       "  'Diploma in Early Childhood Education': 2017,\n",
       "  'Diploma in Electrical Engineering': 2017,\n",
       "  'Diploma in Electronic & Computer Engineering': 2017,\n",
       "  'Diploma in Engineering (Aerospace)': 2017,\n",
       "  'Diploma in Engineering (Building Services & Fire Safety)': 2017,\n",
       "  'Diploma in Engineering (Electrical)': 2017,\n",
       "  'Diploma in Engineering (Electronics)': 2017,\n",
       "  'Diploma in Engineering (Marine)': 2017,\n",
       "  'Diploma in Engineering (Mechanical)': 2017,\n",
       "  'Diploma in Engineering (Mechatronics)': 2017,\n",
       "  'Diploma in Engineering Science': 2017,\n",
       "  'Diploma in Engineering with Business Management Programme': 2017,\n",
       "  'Diploma in Environmental & Water Technology': 2017,\n",
       "  'Diploma in Film, Sound & Video': 2017,\n",
       "  'Diploma in Financial Informatics': 2017,\n",
       "  'Diploma in Health Sciences (Nursing)': 2017,\n",
       "  'Diploma in Hotel & Leisure Facilities Management': 2017,\n",
       "  'Diploma in Information Security & Forensics': 2017,\n",
       "  'Diploma in Information Technology': 2017,\n",
       "  'Diploma in International Business': 2017,\n",
       "  'Diploma in International Logistics & Supply Chain Management': 2017,\n",
       "  'Diploma in Landscape Design & Horticulture': 2017,\n",
       "  'Diploma in Marine & Offshore Technology': 2017,\n",
       "  'Diploma in Mass Communication': 2017,\n",
       "  'Diploma in Mechanical Engineering': 2017,\n",
       "  'Diploma in Molecular Biotechnology': 2017,\n",
       "  'Diploma in Multimedia & Animation': 2017,\n",
       "  'Diploma in Network Systems & Security': 2017,\n",
       "  'Diploma in Optometry': 2017,\n",
       "  'Diploma in Pharmacy Science': 2017,\n",
       "  'Diploma in Product Design & Innovation': 2017,\n",
       "  'Diploma in Psychology Studies': 2017,\n",
       "  'Diploma in Real Estate Business': 2017,\n",
       "  'Diploma in Sustainable Urban Design & Engineering': 2017,\n",
       "  'Diploma in Tamil Studies with Early Education': 2017,\n",
       "  'Diploma in Tourism & Resort Management': 2017,\n",
       "  'Diploma in Veterinary Bioscience': 2017,\n",
       "  'Diploma in Visual Effects': 2017,\n",
       "  'Downstream processing': 2017,\n",
       "  'Fundamental of Offshore Oil & Gas Technology': 2017,\n",
       "  'Industrial Drive Systems': 2017,\n",
       "  'Power Hydraulics': 2017,\n",
       "  'Principles of Marketing': 2017,\n",
       "  'Professional Roles in Educational Support': 2017,\n",
       "  'Specialist Diploma in Analytical Science': 2017,\n",
       "  'Specialist Diploma in Consumer & Performance Analytics': 2017,\n",
       "  'Specialist Diploma in Consumer Banking': 2017,\n",
       "  'Specialist Diploma in Digital Branding & Social Media Strategies': 2017,\n",
       "  'Specialist Diploma in Early Childhood Learning Support': 2017,\n",
       "  'Specialist Diploma in Electrical Design & Operation': 2017,\n",
       "  'Specialist Diploma in IT Network Systems': 2017,\n",
       "  'Specialist Diploma in Palliative Care Nursing': 2017,\n",
       "  'Specialist Diploma in Sustainable Facilities Management': 2017,\n",
       "  'Specialist Diploma in Veterinary Clinical Practice': 2017,\n",
       "  'Upstream processing': 2017}}"
      ]
     },
     "execution_count": 42,
     "metadata": {},
     "output_type": "execute_result"
    }
   ],
   "source": [
    "dictionary = df.to_dict()\n",
    "dictionary"
   ]
  },
  {
   "cell_type": "markdown",
   "metadata": {
    "collapsed": true,
    "slideshow": {
     "slide_type": "slide"
    }
   },
   "source": [
    "## Other things you could achieve"
   ]
  },
  {
   "cell_type": "markdown",
   "metadata": {
    "slideshow": {
     "slide_type": "fragment"
    }
   },
   "source": [
    "- Merge, join, and aggregate\n",
    "- Reshaping and pivot tables\n",
    "- Time series / date functionality\n",
    "- Plotting with matplotlib\n",
    "- IO tools (Text, CSV, etc)\n",
    "- Group by: split-apply-combine\n"
   ]
  },
  {
   "cell_type": "code",
   "execution_count": null,
   "metadata": {
    "collapsed": true
   },
   "outputs": [],
   "source": []
  }
 ],
 "metadata": {
  "celltoolbar": "Slideshow",
  "kernelspec": {
   "display_name": "Python 3",
   "language": "python",
   "name": "python3"
  },
  "language_info": {
   "codemirror_mode": {
    "name": "ipython",
    "version": 3
   },
   "file_extension": ".py",
   "mimetype": "text/x-python",
   "name": "python",
   "nbconvert_exporter": "python",
   "pygments_lexer": "ipython3",
   "version": "3.6.1"
  }
 },
 "nbformat": 4,
 "nbformat_minor": 2
}
