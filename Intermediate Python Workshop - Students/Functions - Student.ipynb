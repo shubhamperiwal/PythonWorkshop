{
 "cells": [
  {
   "cell_type": "markdown",
   "metadata": {},
   "source": [
    "# Chapter 5: Functions"
   ]
  },
  {
   "cell_type": "markdown",
   "metadata": {},
   "source": [
    "A good code is always reusable\n",
    "You will come upon many such situations where you have to do a similar, if not same thing again and again.\n",
    "This is when a function comes in handy.\n",
    "\n",
    "You have seen some Python built-in functions earlier, such as `print()` and `input()`. Functions provide a structured way to organize the logic of a program.\n",
    "\n",
    "To put it in a simply way, a function is a <b>group of statements</b> that is given a name and that <b>fulfills a mission or purpose</b> in a program. For example, the built-in function `print()` fulfills the mission of printing out one or multiple values to the screen.\n",
    "\n",
    "We can define our own functions to facilitate the organization of our code. Let's see the following example, which is a function that draws a stick figure."
   ]
  },
  {
   "cell_type": "code",
   "execution_count": 6,
   "metadata": {},
   "outputs": [],
   "source": [
    "def draw_empty_card():\n",
    "    print(\"----\")\n",
    "    print(\"|  |\")\n",
    "    print(\"|  |\")\n",
    "    print(\"----\")"
   ]
  },
  {
   "cell_type": "markdown",
   "metadata": {},
   "source": [
    "Now you can call this function anywhere to draw a stick figure"
   ]
  },
  {
   "cell_type": "code",
   "execution_count": 20,
   "metadata": {},
   "outputs": [
    {
     "name": "stdout",
     "output_type": "stream",
     "text": [
      "----\n",
      "|  |\n",
      "|  |\n",
      "----\n",
      "----\n",
      "|  |\n",
      "|  |\n",
      "----\n",
      "----\n",
      "|  |\n",
      "|  |\n",
      "----\n"
     ]
    }
   ],
   "source": [
    "draw_empty_card()\n",
    "draw_empty_card()\n",
    "draw_empty_card()"
   ]
  },
  {
   "cell_type": "markdown",
   "metadata": {},
   "source": [
    "## How to define a function"
   ]
  },
  {
   "cell_type": "markdown",
   "metadata": {},
   "source": [
    "<img src = \"method_def.jpg\">"
   ]
  },
  {
   "cell_type": "markdown",
   "metadata": {},
   "source": [
    "From the picture we can see that to define a function we need the following:\n",
    "\n",
    "<ul>\n",
    "<li>The `def` keyword : This keyword marks the <b>start</b> of the function definition or declaration.</li>\n",
    "<li>Function <b>name</b>: Each function needs to have a name. You should choose a meaningful name, which tells what the mission of the function is.</li>\n",
    "<li><b>Parentheses</b>: After the name of a function, you need to place a pair of parentheses. Although in the example above it is empty inside the parentheses, soon you will see that <b>parameters</b> can be defined inside the parentheses. The parentheses are always required even if there is no parameter.</li>\n",
    "<li><b>Colon</b>: The colon sign indicates the start of the function body. </li>\n",
    "<li>The `return` statement: Upon completion of a function, a result can be <b>returned</b> by the function. In that case you can use a <b>return statement</b>.</li>\n",
    "</ul>\n",
    "\n",
    "The first line of a function definition is also called the <b>header line</b>.\n",
    "\n",
    "### Indentation\n",
    "\n",
    "It is very important to note that the body of a function needs to be <b>indented</b>. If a function is not indented correctly, the code cannot be understood by the computer and thus cannot be executed. \n",
    "\n",
    "Try to run the following cell and see what happens. Can you fix the error?"
   ]
  },
  {
   "cell_type": "code",
   "execution_count": 21,
   "metadata": {},
   "outputs": [
    {
     "name": "stdout",
     "output_type": "stream",
     "text": [
      "Welcome to\n",
      "     SMU SIS!\n"
     ]
    }
   ],
   "source": [
    "# a function definition\n",
    "def print_welcome_msg():\n",
    "    print(\"Welcome to\")\n",
    "    print(\"     SMU SIS!\")\n",
    "\n",
    "# a function call\n",
    "print_welcome_msg()"
   ]
  },
  {
   "cell_type": "code",
   "execution_count": 23,
   "metadata": {},
   "outputs": [],
   "source": [
    "def print_welcome_msg(school):\n",
    "    print(\"Welcome to \"+school)"
   ]
  },
  {
   "cell_type": "code",
   "execution_count": 24,
   "metadata": {},
   "outputs": [
    {
     "name": "stdout",
     "output_type": "stream",
     "text": [
      "Hello Students\n",
      "Welcome to SIS\n"
     ]
    }
   ],
   "source": [
    "#Function with parameter\n",
    "print(\"Hello Students\")\n",
    "print_welcome_msg(\"SIS\")\n"
   ]
  },
  {
   "cell_type": "code",
   "execution_count": 28,
   "metadata": {},
   "outputs": [
    {
     "name": "stdout",
     "output_type": "stream",
     "text": [
      "5\n"
     ]
    }
   ],
   "source": [
    "#Function with return statement\n",
    "def getGreaterNumber(a, b):\n",
    "    if(a>b):\n",
    "        maxNumber = a\n",
    "    else:\n",
    "        maxNumber = b    \n",
    "    return maxNumber        #Returns the value generated by the function to the line calling it\n",
    "\n",
    "#NOTE: You have to assign the function call to a variable.\n",
    "# print(a)\n",
    "maxNumberOutside = getGreaterNumber(5, 3)\n",
    "print(maxNumberOutside)\n"
   ]
  },
  {
   "cell_type": "markdown",
   "metadata": {},
   "source": [
    "## Function with default arguments"
   ]
  },
  {
   "cell_type": "markdown",
   "metadata": {},
   "source": [
    "You do not always need to send all arguments. You can also use default arguments."
   ]
  },
  {
   "cell_type": "code",
   "execution_count": 29,
   "metadata": {},
   "outputs": [
    {
     "name": "stdout",
     "output_type": "stream",
     "text": [
      "Total cost:  101.0\n",
      "Total cost:  107.0\n"
     ]
    }
   ],
   "source": [
    "# Code version of \"Use 0.07 as tax_rate unless specified otherwise\"\n",
    "\n",
    "def print_cost_with_tax(cost, tax_rate = 0.07):\n",
    "    print(\"Total cost: \", cost * (1 + tax_rate))\n",
    "    \n",
    "print_cost_with_tax(100, 0.01)       #Assigns cost to 100. Tax_rate to 0.01\n",
    "print_cost_with_tax(100)             #Assigns cost to 100. Tax_rate to 0.07 (default)"
   ]
  },
  {
   "cell_type": "markdown",
   "metadata": {},
   "source": [
    "## PIT STOP"
   ]
  },
  {
   "cell_type": "markdown",
   "metadata": {},
   "source": [
    "Print the arithmetic and geometric means of 2 variables that the user inputs\n",
    "\n",
    "Use the following 2 functions"
   ]
  },
  {
   "cell_type": "code",
   "execution_count": null,
   "metadata": {},
   "outputs": [],
   "source": [
    "def calculate_arithmentic_mean(a,b):\n",
    "    pass\n",
    "\n",
    "def calculate_geometric_mean(a,b):\n",
    "    pass\n",
    "\n",
    "#Uncomment the following line to accept the first number\n",
    "#a = float(input(\"Enter the first number: \"))"
   ]
  }
 ],
 "metadata": {
  "kernelspec": {
   "display_name": "Python 3",
   "language": "python",
   "name": "python3"
  },
  "language_info": {
   "codemirror_mode": {
    "name": "ipython",
    "version": 3
   },
   "file_extension": ".py",
   "mimetype": "text/x-python",
   "name": "python",
   "nbconvert_exporter": "python",
   "pygments_lexer": "ipython3",
   "version": "3.6.4"
  }
 },
 "nbformat": 4,
 "nbformat_minor": 2
}
